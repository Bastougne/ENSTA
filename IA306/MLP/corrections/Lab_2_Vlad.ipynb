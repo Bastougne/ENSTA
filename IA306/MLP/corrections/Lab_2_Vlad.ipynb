{
  "cells": [
    {
      "cell_type": "markdown",
      "source": [
        "# Lab Deep Learning/ Multi-Layer Perceptron for classification/ in python \n",
        "\n",
        "**Author: geoffroy.peeters@telecom-paris.fr**\n",
        "\n",
        "**Version**: 2022/09/19\n",
        "\n",
        "For any remark or suggestion, please feel free to contact me.\n",
        "\n",
        "$\\newcommand{\\underbr}[2]{\\underbrace{#1}_{\\scriptscriptstyle{#2}}}$"
      ],
      "metadata": {
        "id": "6-ikOCCzpScS"
      }
    },
    {
      "cell_type": "markdown",
      "source": [
        "## Objective:\n",
        "We want to implement a two layers Multi-Layer Perceptron (MLP) with 1 hidden layer in Python, for a classification problem.\n",
        "\n",
        "The output of the network is simply the output of several cascaded functions :\n",
        "- Linear transformations. We note the weights of a linear transformation with $W$\n",
        "- Additive biases. We note the parameters of additive biases  with $b$\n",
        "- Non-linearities.\n",
        "\n",
        "For this, we will implement:\n",
        "- the forward propagation\n",
        "- the computation of the cost/loss\n",
        "- the backward propagation (to obtain the gradients)\n",
        "- the update of the parameters\n",
        "\n",
        "Furthermore, we define the following sizes :\n",
        "\n",
        "- $n^{[0]}$ : number of input neurons\n",
        "- $n^{[1]}$ : number of neurons in hidden layer\n",
        "- $n^{[2]}$ : number of neurons in output layer\n",
        "- $m$ : number of training datapoints"
      ],
      "metadata": {
        "id": "2OaXIgkHpZDt"
      }
    },
    {
      "cell_type": "markdown",
      "source": [
        "### Cost function \n",
        "\n",
        "The **cost** is the average of the the **loss** over the training data. Since we are dealing with a binary classification problem, we will use the binary cross-entropy.\n",
        "\n",
        "$$\\mathcal{L} = - \\left( y \\log(\\hat{y}) + (1-y) \\log(1-\\hat{y}) \\right),$$\n",
        "\n",
        "where \n",
        "- the $y$ are the ground-truth labels of the data and \n",
        "- the $\\hat{y}$ the estimated labels (outputs of the network)."
      ],
      "metadata": {
        "id": "o0nP4sFppcek"
      }
    },
    {
      "cell_type": "markdown",
      "source": [
        "### Forward propagation\n",
        "\n",
        "$$\n",
        "\\newcommand{\\l}[1]{^{[#1]}}\n",
        "\\underbr{Z\\l1}{(m,n\\l1)} = \\underbr{X}{(m,n\\l0)} \\underbr{W\\l1}{(n\\l0,n\\l1)}  + \\underbr{b\\l1}{n\\l1} \\\\\n",
        "\\underbr{A\\l1}{(m,n\\l1)} = g\\l1(Z\\l1) \\\\\n",
        "\\underbr{Z\\l2}{(m,n\\l2)} = \\underbr{A\\l1}{(m,n\\l1)} \\underbr{W\\l2}{(n\\l1,n\\l2)}  + \\underbr{b\\l2}{n\\l2} \\\\\n",
        "\\underbr{A\\l2}{(m,n\\l2)} = \\sigma(Z^{[2]})\n",
        "$$\n",
        "\n",
        "where \n",
        "- $g^{[1]}$ is a ```Relu``` non-linear activation function (the code is provided)\n",
        "- $\\sigma$ is a sigmoid output activation function (the code is provided)"
      ],
      "metadata": {
        "id": "VYozF2J6phR9"
      }
    },
    {
      "cell_type": "markdown",
      "source": [
        "### Backward propagation\n",
        "\n",
        "The backward propagation can be calculated as\n",
        "\n",
        "$$\n",
        "\\newcommand{\\ddd}[2]{\\frac{\\partial #1}{\\partial #2}}\n",
        "\\newcommand{\\L}[0]{\\mathcal{L}}\n",
        "\\newcommand{\\l}[1]{^{[#1]}}\n",
        "\\newcommand{\\dZdeux}[0]{ \\underbr{ \\ddd{\\L}{Z\\l2} }{ (m,n\\l2)} }\n",
        "\\newcommand{\\dWdeux}[0]{ \\underbr{ \\ddd{\\L}{W\\l2} }{ (n\\l1,n\\l2)} }\n",
        "\\newcommand{\\dbdeux}[0]{ \\underbr{ \\ddd{\\L}{b\\l2} }{ (n\\l2)} }\n",
        "\\newcommand{\\dAun}[0]{ \\underbr{ \\ddd{\\L}{A\\l1} }{ (m,n\\l1)} }\n",
        "\\newcommand{\\dZun}[0]{ \\underbr{ \\ddd{\\L}{Z\\l1} }{ (m,n\\l1)} }\n",
        "\\newcommand{\\dWun}[0]{ \\underbr{ \\ddd{\\L}{W\\l1} }{ (n\\l0,n\\l1)} }\n",
        "\\newcommand{\\dbun}[0]{ \\underbr{ \\ddd{\\L}{b\\l1} }{ (n\\l1)} }\n",
        "\\\\\n",
        "\\dZdeux = \\underbr{A\\l2}{(m,n\\l2)} - \\underbr{Y}{(m,n\\l2)}\\\\\n",
        "\\dWdeux = \\frac{1}{m} {\\underbr{A\\l1}{(m,n\\l1)}}^{T} \\dZdeux \\\\\n",
        "\\dbdeux = \\frac{1}{m} \\sum_{i=1}^{m} \\dZdeux \\\\\n",
        "\\dAun = \\dZdeux {\\underbr{W\\l2}{(n\\l1,n\\l2)}}^{T}\\\\\n",
        "\\dZun = \\dAun \\: \\odot \\: {g\\l1}' (\\underbr{Z\\l1}{(m,n\\l1)})\\\\\n",
        "\\dWun = \\frac{1}{m} {\\underbr{X}{(m,n^{[0]})}}^{T} \\dZun \\\\\n",
        "\\dbun = \\frac{1}{m} \\sum_{i=1}^{m} \\dZun\n",
        "$$\n",
        "\n",
        "Based on the previous formulae, write the corresponding backpropagation algorithm."
      ],
      "metadata": {
        "id": "OwpXMOZVpkXv"
      }
    },
    {
      "cell_type": "markdown",
      "source": [
        "### Parameters update\n",
        "\n",
        "- Implement a **first version** in which the parameters are updated using a **simple gradient descent**:\n",
        "\n",
        "$$\n",
        "\\newcommand{\\ddd}[2]{\\frac{\\partial #1}{\\partial #2}}\n",
        "\\newcommand{\\L}[0]{\\mathcal{L}}\n",
        "W = W - \\alpha \\ddd{\\L}{W}\n",
        "$$\n",
        "\n",
        "\n",
        "- Implement a **second version** in which the parameters are updated using the **momentum method**:\n",
        "\n",
        "$$\n",
        "\\newcommand{\\ddd}[2]{\\frac{\\partial #1}{\\partial #2}}\n",
        "\\newcommand{\\L}[0]{\\mathcal{L}}\n",
        "V_{dW}(t) = \\beta V_{dW}(t-1) + (1-\\beta) \\ddd{\\L}{W} \\\\\n",
        "W(t) = W(t-1) - \\alpha V_{dW}(t)\n",
        "$$\n"
      ],
      "metadata": {
        "id": "4JjkVTZJpslZ"
      }
    },
    {
      "cell_type": "markdown",
      "metadata": {
        "id": "7mI-_EvHopCX"
      },
      "source": [
        "### IMPORTANT IMPLEMENTATION INFORMATION !\n",
        "\n",
        "The $\\odot$ operator refers to the point-wise multiplication operation. The matrix multiplication operation can be carried out in Python using ```np.multiply(.,.)``` or ```np.dot(.,.)```function.\n",
        "\n",
        "\n",
        "\n",
        "## Your task:\n",
        "\n",
        "You need to add the missing parts in the code (parts between ```# --- START CODE HERE``` and ```# --- END CODE HERE```)\n",
        "\n",
        "## Note \n",
        "\n",
        "The code is written as a python class (in order to be able to pass all the variables easely from one function to the other).\n",
        "\n",
        "To use a given variable, you need to use ```self.$VARIABLE_NAME```, such as````self.W1````,```self.b1```, ... (see the code already written).\n",
        "\n",
        "## Testing\n",
        "\n",
        "For testing your code, you can use the code provided in the last cells (loop over epochs and display of the loss decrease).\n",
        "You should a cost which decreases (largely) over epochs."
      ]
    },
    {
      "cell_type": "markdown",
      "metadata": {
        "id": "-OpFxAFiopCY"
      },
      "source": [
        "# Load packages"
      ]
    },
    {
      "cell_type": "code",
      "execution_count": 1,
      "metadata": {
        "id": "c05fkCgFopCY"
      },
      "outputs": [],
      "source": [
        "%matplotlib inline\n",
        "import numpy as np\n",
        "from sklearn import datasets\n",
        "from sklearn import model_selection\n",
        "import matplotlib.pyplot as plt\n",
        "\n",
        "student = True"
      ]
    },
    {
      "cell_type": "markdown",
      "metadata": {
        "id": "GzrpnPCEopCa"
      },
      "source": [
        "# Define a set of functions"
      ]
    },
    {
      "cell_type": "code",
      "execution_count": 2,
      "metadata": {
        "id": "UDDxBp_UopCb"
      },
      "outputs": [],
      "source": [
        "def F_standardize(X):\n",
        "    \"\"\"\n",
        "    standardize X, i.e. subtract mean (over data) and divide by standard-deviation (over data)\n",
        "    \n",
        "    Parameters\n",
        "    ----------\n",
        "    X: np.array of size (m, n_0)\n",
        "        matrix containing the observation data\n",
        "    \n",
        "    Returns\n",
        "    -------\n",
        "    X: np.array of size (m, n_0)\n",
        "        standardize version of X\n",
        "    \"\"\"\n",
        "    \n",
        "    X -= np.mean(X, axis=0, keepdims=True) \n",
        "    X /= (np.std(X, axis=0, keepdims=True) + 1e-16)\n",
        "    return X"
      ]
    },
    {
      "cell_type": "code",
      "execution_count": 21,
      "metadata": {
        "id": "aHfEONyMopCd"
      },
      "outputs": [],
      "source": [
        "def F_sigmoid(x):\n",
        "    \"\"\"Compute the value of the sigmoid activation function\"\"\"\n",
        "    return 1 / (1 + np.exp(-x))\n",
        "\n",
        "def F_relu(x):\n",
        "    \"\"\"Compute the value of the Rectified Linear Unit activation function\"\"\"\n",
        "    return x * (x > 0)\n",
        "\n",
        "def F_dRelu(x):\n",
        "    \"\"\"Compute the derivative of the Rectified Linear Unit activation function\"\"\"\n",
        "    x[x<=0] = 0\n",
        "    x[x>0] = 1\n",
        "    return x\n",
        "\n",
        "def F_computeCost(hat_y, y):\n",
        "    \"\"\"Compute the cost (sum of the losses)\n",
        "    \n",
        "    Parameters\n",
        "    ----------\n",
        "    hat_y: (m, 1)\n",
        "        predicted value by the MLP\n",
        "    y: (m, 1)\n",
        "        ground-truth class to predict\n",
        "    \"\"\"\n",
        "    m = y.shape[0]\n",
        "     \n",
        "    if student:\n",
        "        # --- START CODE HERE (01)\n",
        "        loss =  -(np.multiplication(y, np.log(hat_y))+np.multiplication(1-y, np.log(1-hat_y)))\n",
        "        # --- END CODE HERE\n",
        "    cost = np.sum(loss) / m\n",
        "    return cost\n",
        "\n",
        "def F_computeAccuracy(hat_y, y):\n",
        "    \"\"\"Compute the accuracy\n",
        "    \n",
        "    Parameters\n",
        "    ----------\n",
        "    hat_y: (m, 1)\n",
        "        predicted value by the MLP\n",
        "    y: (m, 1)\n",
        "        ground-truth class to predict\n",
        "    \"\"\"\n",
        "    \n",
        "    m = y.shape[0]    \n",
        "    class_y = np.copy(hat_y)\n",
        "    class_y[class_y>=0.5]=1\n",
        "    class_y[class_y<0.5]=0\n",
        "    return np.sum(class_y==y) / m"
      ]
    },
    {
      "cell_type": "markdown",
      "metadata": {
        "id": "c8xKaXHlopCe"
      },
      "source": [
        "# Load dataset and pre-process it"
      ]
    },
    {
      "cell_type": "code",
      "execution_count": 6,
      "metadata": {
        "colab": {
          "base_uri": "https://localhost:8080/",
          "height": 279
        },
        "id": "kU3HU2mnopCf",
        "outputId": "1aabee45-a7e3-41fa-8d9b-0b04fbc55188"
      },
      "outputs": [
        {
          "output_type": "display_data",
          "data": {
            "text/plain": [
              "<Figure size 432x288 with 1 Axes>"
            ],
            "image/png": "[encoded data removed]"
          },
          "metadata": {
            "needs_background": "light"
          }
        }
      ],
      "source": [
        "X, y = datasets.make_circles(n_samples=1000, noise=0.2, factor=0.5)\n",
        "\n",
        "from pandas import DataFrame\n",
        "# scatter plot, dots colored by class value\n",
        "df = DataFrame(dict(x=X[:,0], y=X[:,1], label=y))\n",
        "colors = {0:'red', 1:'blue'}\n",
        "fig, ax = plt.subplots()\n",
        "grouped = df.groupby('label')\n",
        "for key, group in grouped:\n",
        "    group.plot(ax=ax, kind='scatter', x='x', y='y', label=key, color=colors[key])\n",
        "plt.show()"
      ]
    },
    {
      "cell_type": "code",
      "execution_count": 7,
      "metadata": {
        "colab": {
          "base_uri": "https://localhost:8080/"
        },
        "id": "xR1zNuEWopCh",
        "outputId": "758fee59-6b22-41bd-9862-ef2c488dc0a0"
      },
      "outputs": [
        {
          "output_type": "stream",
          "name": "stdout",
          "text": [
            "X.shape: (1000, 2)\n",
            "y.shape: (1000,)\n",
            "{0, 1}\n",
            "X_train.shape: (800, 2)\n",
            "X_test.shape: (200, 2)\n",
            "y_train.shape: (800, 1)\n",
            "y_test.shape: (200, 1)\n",
            "y_train.shape: (800, 1)\n",
            "y_test.shape: (200, 1)\n",
            "n_0=n_in: 2 n_2=n_out: 1\n"
          ]
        }
      ],
      "source": [
        "print(\"X.shape: {}\".format(X.shape))\n",
        "print(\"y.shape: {}\".format(y.shape))\n",
        "print(set(y))\n",
        "\n",
        "# X is (m, n_0)\n",
        "# y is (m,)\n",
        "\n",
        "# --- Standardize data\n",
        "X = F_standardize(X)\n",
        "\n",
        "# --- Split between training set and test set\n",
        "# --- (m, n_0)\n",
        "X_train, X_test, y_train, y_test = model_selection.train_test_split(X, y, test_size=0.2)\n",
        "\n",
        "# --- Convert to proper shape: (m,) -> (m, 1)\n",
        "y_train = y_train.reshape(len(y_train), 1)\n",
        "y_test = y_test.reshape(len(y_test), 1)\n",
        "\n",
        "# --- Convert to oneHotEncoding: (nbExamples, 1) -> (nbExamples, nbClass)\n",
        "n_0 = X_train.shape[1]\n",
        "n_2 = 1\n",
        "\n",
        "print(\"X_train.shape: {}\".format(X_train.shape))\n",
        "print(\"X_test.shape: {}\".format(X_test.shape))\n",
        "print(\"y_train.shape: {}\".format(y_train.shape))\n",
        "print(\"y_test.shape: {}\".format(y_test.shape))\n",
        "print(\"y_train.shape: {}\".format(y_train.shape))\n",
        "print(\"y_test.shape: {}\".format(y_test.shape))\n",
        "print(\"n_0=n_in: {} n_2=n_out: {}\".format(n_0, n_2))"
      ]
    },
    {
      "cell_type": "markdown",
      "metadata": {
        "id": "WFeLTEtqopCj"
      },
      "source": [
        "# Define the MLP class with forward, backward and update methods\n",
        "\n",
        "In the code we will denote \n",
        "- $\\frac{\\partial \\mathcal{L}}{\\partial W^{[1]}}$ by ``dW1``, \n",
        "- $\\frac{\\partial \\mathcal{L}}{\\partial b^{[1]}}$ by ``db1``, \n",
        "- $\\frac{\\partial \\mathcal{L}}{\\partial W^{[2]}}$ by ``dW2``, \n",
        "- $\\frac{\\partial \\mathcal{L}}{\\partial b^{[2]}}$ by ``db2``, \n",
        "- $\\frac{\\partial \\mathcal{L}}{\\partial Z^{[1]}}$ by ``dZ1``, \n",
        "- $\\frac{\\partial \\mathcal{L}}{\\partial A^{[1]}}$ by ``dA1``, \n",
        "- ..."
      ]
    },
    {
      "cell_type": "code",
      "execution_count": 18,
      "metadata": {
        "id": "zMbOr4aEopCk"
      },
      "outputs": [],
      "source": [
        "class C_MultiLayerPerceptron:\n",
        "    \"\"\"\n",
        "    A class used to represent a Multi-Layer Perceptron with 1 hidden layers\n",
        "\n",
        "    ...\n",
        "\n",
        "    Attributes\n",
        "    ----------\n",
        "    W1, b1, W2, b2:\n",
        "        weights and biases to be learnt\n",
        "    Z1, A1, Z2, A2:\n",
        "        values of the internal neurons to be used for backpropagation\n",
        "    dW1, db1, dW2, db2, dZ1, dZ2:\n",
        "        partial derivatives of the loss w.r.t. parameters\n",
        "        example: dW1 = dLoss/dW1\n",
        "    VdW1, Vdb1, VdW2, Vdb2:\n",
        "        momentum terms\n",
        "    do_bin0_multi1:\n",
        "        set wether we solve a binary or a multi-class classification problem\n",
        "        \n",
        "    Methods\n",
        "    -------\n",
        "    forward_propagation\n",
        "    \n",
        "    backward_propagation\n",
        "    \n",
        "    update_parameters\n",
        "    \n",
        "    \"\"\"\n",
        "\n",
        "    W1, b1, W2, b2 = [], [], [], []\n",
        "    A0, Z1, A1, Z2, A2 = [], [], [], [], []\n",
        "    dW1, db1, dW2, db2 = [], [], [], []   \n",
        "    dZ1, dA1, dZ2 = [], [], []\n",
        "    # --- for momentum\n",
        "    VdW1, Vdb1, VdW2, Vdb2 = [], [], [], []     \n",
        "    \n",
        "    def __init__(self, n_0, n_1, n_2):\n",
        "        self.W1 = np.random.randn(n_0, n_1) * 0.01\n",
        "        self.b1 = np.zeros(shape=(1, n_1))\n",
        "        self.W2 = np.random.randn(n_1, n_2) * 0.01\n",
        "        self.b2 = np.zeros(shape=(1, n_2))        \n",
        "        # --- for momentum\n",
        "        self.VdW1 = np.zeros(shape=(n_0, n_1)) \n",
        "        self.Vdb1 = np.zeros(shape=(1, n_1))\n",
        "        self.VdW2 = np.zeros(shape=(n_1, n_2))\n",
        "        self.Vdb2 = np.zeros(shape=(1, n_2))\n",
        "        return\n",
        "\n",
        "\n",
        "    def __setattr__(self, attrName, val):\n",
        "        if hasattr(self, attrName):\n",
        "            self.__dict__[attrName] = val\n",
        "        else:\n",
        "            raise Exception(\"self.%s note part of the fields\" % attrName)\n",
        "\n",
        "            \n",
        "\n",
        "    def M_forwardPropagation(self, X):\n",
        "        \"\"\"Forward propagation in the MLP\n",
        "\n",
        "        Parameters\n",
        "        ----------\n",
        "        X: numpy array (m, n_0)\n",
        "            observation data\n",
        "\n",
        "        Return\n",
        "        ------\n",
        "        hat_y: numpy array (m, 1)\n",
        "            predicted value by the MLP\n",
        "        \"\"\"\n",
        "        \n",
        "        if student:\n",
        "            # --- START CODE HERE (02)\n",
        "            self.A0 = X\n",
        "            \n",
        "            self.Z1 = np.dot(self.A0, self.W1) + self.b1\n",
        "            self.A1 = F_relu(self.Z1)\n",
        "            \n",
        "            self.Z2 = np.dot(self.A1, self.W2) + self.b2\n",
        "            self.A2 = F_sigmoid(self.Z2)\n",
        "            \n",
        "            hat_y = self.A2\n",
        "            # --- END CODE HERE\n",
        "        \n",
        "        return hat_y\n",
        "\n",
        "\n",
        "    def M_backwardPropagation(self, X, y):\n",
        "        \"\"\"Backward propagation in the MLP\n",
        "\n",
        "        Parameters\n",
        "        ----------\n",
        "        X: numpy array (m, n_0)\n",
        "            observation data\n",
        "        y: numpy array (m, 1)\n",
        "            ground-truth class to predict\n",
        "            \n",
        "        \"\"\"\n",
        "        \n",
        "        m = y.shape[0]\n",
        "        \n",
        "        if student:\n",
        "            # --- START CODE HERE (03)\n",
        "    \n",
        "            self.dZ2 = self.A2 - y\n",
        "            self.dW2 = np.multiply(1/m,np.dot(np.transpose(self.A1), self.dZ2))\n",
        "            self.db2 = np.multiply(1/m,np.sum(self.dZ2))\n",
        "            self.dA1 = np.dot(self.dZ2, np.transpose(self.W2))\n",
        "\n",
        "            self.dZ1 = np.multiply(self.dA1, F_dRelu(self.Z1))\n",
        "            self.dW1 = np.multiply(1/m,np.dot(np.transpose(X), self.dZ1))\n",
        "            self.db1 = np.multiply(1/m,np.sum(self.dZ1))\n",
        "            # --- END CODE HERE\n",
        "        \n",
        "        return\n",
        "\n",
        "    \n",
        "    def M_gradientDescent(self, alpha):\n",
        "        \"\"\"Update the parameters of the network using gradient descent\n",
        "\n",
        "        Parameters\n",
        "        ----------\n",
        "        alpha: float scalar\n",
        "            amount of update at each step of the gradient descent\n",
        "            \n",
        "        \"\"\"\n",
        "        if student:\n",
        "            # --- START CODE HERE (04)\n",
        "            self.W1 -= alpha*self.dW1\n",
        "            self.b1 -= alpha*self.db1\n",
        "            self.W2 -= alpha*self.dW2\n",
        "            self.b2 -= alpha*self.db2\n",
        "            # --- END CODE HERE\n",
        "        \n",
        "        return\n",
        "\n",
        "    \n",
        "    def M_momentum(self, alpha, beta):\n",
        "        \"\"\"Update the parameters of the network using momentum method\n",
        "\n",
        "        Parameters\n",
        "        ----------\n",
        "        alpha: float scalar\n",
        "            amount of update at each step of the gradient descent\n",
        "        beta: float scalar\n",
        "            momentum term \n",
        "        \"\"\"\n",
        "        \n",
        "        if student:\n",
        "            # --- START CODE HERE (05)\n",
        "            self.VdW1 = np.multiply(beta, self.VdW1) + np.multiply(1-beta,self.dW1)\n",
        "            self.W1 -= alpha*self.VdW1\n",
        "\n",
        "            self.Vdb1 = np.multiply(beta, self.Vdb1) + np.multiply(1-beta,self.db1)\n",
        "            self.b1 -= alpha*self.Vdb1\n",
        "\n",
        "            self.VdW2 = np.multiply(beta, self.VdW2) + np.multiply(1-beta,self.dW2)\n",
        "            self.W2 -= alpha*self.VdW2\n",
        "\n",
        "            self.Vdb2 = np.multiply(beta, self.Vdb2) + np.multiply(1-beta,self.db2)\n",
        "            self.b2 -= alpha*self.Vdb2\n",
        "            # --- END CODE HERE\n",
        "        \n",
        "             \n",
        "                \n",
        "        return"
      ]
    },
    {
      "cell_type": "markdown",
      "metadata": {
        "id": "7aRPi2oQopCm"
      },
      "source": [
        "# Perform training using batch-gradiant and epochs"
      ]
    },
    {
      "cell_type": "code",
      "execution_count": 19,
      "metadata": {
        "colab": {
          "base_uri": "https://localhost:8080/"
        },
        "id": "U9vEi2gsopCm",
        "outputId": "e0e7881d-ffe9-4208-c936-79d090f8a762"
      },
      "outputs": [
        {
          "output_type": "stream",
          "name": "stdout",
          "text": [
            "epoch: 0 (cost: train 0.69 test 0.69) (accuracy: train 0.49 test 0.36)\n",
            "epoch: 500 (cost: train 0.69 test 0.69) (accuracy: train 0.54 test 0.55)\n",
            "epoch: 1000 (cost: train 0.44 test 0.45) (accuracy: train 0.85 test 0.86)\n",
            "epoch: 1500 (cost: train 0.31 test 0.32) (accuracy: train 0.88 test 0.88)\n",
            "epoch: 2000 (cost: train 0.27 test 0.29) (accuracy: train 0.87 test 0.86)\n",
            "epoch: 2500 (cost: train 0.26 test 0.28) (accuracy: train 0.88 test 0.86)\n",
            "epoch: 3000 (cost: train 0.26 test 0.28) (accuracy: train 0.88 test 0.86)\n",
            "epoch: 3500 (cost: train 0.26 test 0.28) (accuracy: train 0.88 test 0.86)\n",
            "epoch: 4000 (cost: train 0.26 test 0.28) (accuracy: train 0.88 test 0.86)\n",
            "epoch: 4500 (cost: train 0.26 test 0.28) (accuracy: train 0.88 test 0.86)\n"
          ]
        }
      ],
      "source": [
        "# hyper-parameters\n",
        "n_1 = 10 # number of hidden neurons\n",
        "nb_epoch = 5000 # number of epochs (number of iterations over full training set)\n",
        "alpha=0.1 # learning rate\n",
        "beta=0.9 # beta parameters for momentum\n",
        "\n",
        "\n",
        "# Instantiate the class MLP with providing \n",
        "# the size of the various layers (n_0=n_input, n_1=n_hidden, n_2=n_output) \n",
        "myMLP = C_MultiLayerPerceptron(n_0, n_1, n_2)\n",
        "\n",
        "train_cost, train_accuracy, test_cost, test_accuracy = [], [], [], []\n",
        "\n",
        "# Run over epochs\n",
        "for num_epoch in range(0, nb_epoch):\n",
        "    \n",
        "    # --- Forward\n",
        "    hat_y_train = myMLP.M_forwardPropagation(X_train)\n",
        "    \n",
        "    # --- Store results on train\n",
        "    train_cost.append( F_computeCost(hat_y_train, y_train) )\n",
        "    train_accuracy.append( F_computeAccuracy(hat_y_train, y_train) )\n",
        "    \n",
        "    # --- Backward\n",
        "    myMLP.M_backwardPropagation(X_train, y_train)\n",
        "    \n",
        "    # --- Update\n",
        "    myMLP.M_gradientDescent(alpha)\n",
        "    #myMLP.M_momentum(alpha, beta)\n",
        "\n",
        "    # --- Store results on test\n",
        "    hat_y_test = myMLP.M_forwardPropagation(X_test)\n",
        "    test_cost.append( F_computeCost(hat_y_test, y_test) )    \n",
        "    test_accuracy.append( F_computeAccuracy(hat_y_test, y_test) )\n",
        "    \n",
        "    if (num_epoch % 500)==0: \n",
        "        print(\"epoch: {0:d} (cost: train {1:.2f} test {2:.2f}) (accuracy: train {3:.2f} test {4:.2f})\".format(num_epoch, train_cost[-1], test_cost[-1], train_accuracy[-1], test_accuracy[-1]))"
      ]
    },
    {
      "cell_type": "markdown",
      "metadata": {
        "id": "OWH7NblhopCo"
      },
      "source": [
        "## Display train/test loss and accuracy"
      ]
    },
    {
      "cell_type": "code",
      "execution_count": 20,
      "metadata": {
        "colab": {
          "base_uri": "https://localhost:8080/",
          "height": 280
        },
        "id": "SLLjoteXopCp",
        "outputId": "b78fcd9b-dd39-42fc-886c-98c4a1f93ce1"
      },
      "outputs": [
        {
          "output_type": "display_data",
          "data": {
            "text/plain": [
              "<Figure size 432x288 with 2 Axes>"
            ],
            "image/png": "[encoded data removed]"
          },
          "metadata": {
            "needs_background": "light"
          }
        }
      ],
      "source": [
        "plt.subplot(1,2,1)\n",
        "plt.plot(train_cost, 'r')\n",
        "plt.plot(test_cost, 'g--')\n",
        "plt.xlabel('# epoch')\n",
        "plt.ylabel('loss')\n",
        "plt.grid(True)\n",
        "\n",
        "plt.subplot(1,2,2)\n",
        "plt.plot(train_accuracy, 'r')\n",
        "plt.plot(test_accuracy, 'g--')\n",
        "plt.xlabel('# epoch')\n",
        "plt.ylabel('accuracy')\n",
        "plt.grid(True)"
      ]
    },
    {
      "cell_type": "markdown",
      "metadata": {
        "id": "0uLVa9lsopCs"
      },
      "source": [
        "# Evaluation\n",
        "\n",
        "To evaluate the work, you should rate the code for \n",
        "- 1) Loss (01)\n",
        "- 2) Forward (02)\n",
        "- 3) Backward (03)\n",
        "- 4) Parameter update by Gradient Descent (04)\n",
        "- 5) Parameter update by Momentum (05) BONUS (since we haven't seen that during lecture 1)"
      ]
    },
    {
      "cell_type": "code",
      "execution_count": null,
      "metadata": {
        "id": "MQYnibs_opCs"
      },
      "outputs": [],
      "source": []
    }
  ],
  "metadata": {
    "celltoolbar": "Slideshow",
    "colab": {
      "collapsed_sections": [],
      "provenance": []
    },
    "kernelspec": {
      "display_name": "Python 3",
      "language": "python",
      "name": "python3"
    },
    "language_info": {
      "codemirror_mode": {
        "name": "ipython",
        "version": 3
      },
      "file_extension": ".py",
      "mimetype": "text/x-python",
      "name": "python",
      "nbconvert_exporter": "python",
      "pygments_lexer": "ipython3",
      "version": "3.8.5"
    },
    "toc": {
      "base_numbering": 1,
      "nav_menu": {},
      "number_sections": true,
      "sideBar": true,
      "skip_h1_title": false,
      "title_cell": "Table of Contents",
      "title_sidebar": "Contents",
      "toc_cell": false,
      "toc_position": {
        "height": "calc(100% - 180px)",
        "left": "10px",
        "top": "150px",
        "width": "165px"
      },
      "toc_section_display": true,
      "toc_window_display": false
    }
  },
  "nbformat": 4,
  "nbformat_minor": 0
}