{
 "cells": [
  {
   "cell_type": "markdown",
   "metadata": {},
   "source": [
    "# ROBOTICS - Tutorial 1 : Direct and inverse kinematics\n",
    "\n"
   ]
  },
  {
   "cell_type": "markdown",
   "metadata": {},
   "source": [
    "## Introduction"
   ]
  },
  {
   "cell_type": "markdown",
   "metadata": {
    "raw_mimetype": "text/latex"
   },
   "source": [
    "We propose to study the __geometric__ and __kinematic__ modeling of a manipulator arm developed by the *Interactive Robotics Laboratory* of the *CEA List*. This robot, which kinematic chain is of serial type, has $6$ revolute joints ($j_i$ with $i=1,\\ldots,6$).\n",
    "\n",
    "\n",
    "<img src=\"Images/VueRobot.png\" width=\"400\">\n",
    "\n",
    "\n",
    "The numerical values of the robot parameters, required for the completion of this tutorial, are specified in the following table.\n",
    "\n",
    "$$\n",
    "\\begin{aligned}\n",
    "& \\text {Table. Numerical values of the robot parameters.}\\\\\n",
    "&\\begin{array}{cccc}\n",
    "\\hline\n",
    "\t\t\\text{Parameters} &\t\\text{Numerical values} &\t\\text{Type of parameter} \\\\ \n",
    "\t\t\\hline\n",
    "\t\td_3 & 0.7 m & \\text{Geometric parameter} \\\\\n",
    "\t\tr_1 & 0.5 m & \\text{Geometric parameter} \\\\\n",
    "\t\tr_4 & 0.2 m & \\text{Geometric parameter} \\\\\n",
    "        r_E & 0.1 m & \\text{Geometric parameter} \\\\\n",
    "\\hline\n",
    "\\end{array}\n",
    "\\end{aligned}\n",
    "$$\n",
    "\n",
    "The use of *Python* is required to perform the tutorial. Please import the following required mathematical libraires to start the tutorial."
   ]
  },
  {
   "cell_type": "code",
   "execution_count": 1,
   "metadata": {},
   "outputs": [],
   "source": [
    "import numpy as np\n",
    "import math as m\n",
    "import functools as fu\n",
    "from numpy.linalg import eig\n",
    "import matplotlib.pyplot as plt\n",
    "import random\n"
   ]
  },
  {
   "cell_type": "markdown",
   "metadata": {},
   "source": [
    "In the following, you will progressively update a *Dictionnary* in Python containing the robot parameters, named __robotParameters__.\n",
    "\n",
    "Please initialize it as follows: \n",
    "*robotParameters = { 'nJoints': 6, 'jointsType': ['R','R','R','R','R','R']}*"
   ]
  },
  {
   "cell_type": "code",
   "execution_count": 2,
   "metadata": {},
   "outputs": [],
   "source": [
    "robotParameters = {'nJoints': 6, 'jointsType': ['R','R','R','R','R','R']}\n"
   ]
  },
  {
   "cell_type": "markdown",
   "metadata": {},
   "source": [
    "You will also progressively build a *Class* containing some *attributes* related to the robot. To do so, you will be asked to program some of its *methods* in the tutorial. This class is named __RobotModel__ and is defined in the file *ClassRobotModel*.\n",
    "\n",
    "Please initialize it as follows. You will see printing the resulting *attributes* of the *Class* __RobotModel__."
   ]
  },
  {
   "cell_type": "code",
   "execution_count": 3,
   "metadata": {},
   "outputs": [
    {
     "name": "stdout",
     "output_type": "stream",
     "text": [
      "Attribute (int): self.numberJoints =  6\n",
      "Attribute (list): self.jointsType =  ['R', 'R', 'R', 'R', 'R', 'R']\n",
      "Attribute (list - 0 if self.jointsType[i] == 'R' / 1 if self.jointsType[i] == 'P'): self.sigma =  [0, 0, 0, 0, 0, 0]\n"
     ]
    }
   ],
   "source": [
    "from ClassRobotModel import RobotModel\n",
    "RobotTutorials = RobotModel( **robotParameters )\n"
   ]
  },
  {
   "cell_type": "markdown",
   "metadata": {},
   "source": [
    "## Direct geometric model"
   ]
  },
  {
   "cell_type": "markdown",
   "metadata": {},
   "source": [
    "__Q1.__ Fill in the following figure giving the frames attached to the successive links of the robot according to the *Modified Denavit-Hartenberg (MDH)* parameters defining the spatial arrangement of the robot structure (axis names and geometric distances should be reported on the completed figure).\n",
    "\n",
    "<img src=\"Images/ParametresDH.png\" width=\"600\">"
   ]
  },
  {
   "cell_type": "code",
   "execution_count": 4,
   "metadata": {},
   "outputs": [],
   "source": [
    "#from IPython.display import Image\n",
    "#Image(filename='Images/ParametresDH_solution.png', width=600)\n"
   ]
  },
  {
   "cell_type": "markdown",
   "metadata": {},
   "source": [
    "__Q2.__ To fill the following table with the geometric parameters of the robot:\n",
    "\n",
    "$$\n",
    "\\begin{array}{ccccc}\n",
    "\t\t\\hline\n",
    "\t\t\\hline\n",
    "\t\t i  & \\alpha_i & d_i & \\theta_i & r_i \\\\\n",
    "\t\t\\hline\n",
    "\t\t\\hline\n",
    "\t\t1  & ? & ? & ? & ? \\\\\n",
    "\t\t\\hline\n",
    "\t\t2  & ? & ? & ? & ? \\\\\n",
    "\t\t\\hline\n",
    "\t\t3  & ? & ? & ? & ? \\\\\n",
    "\t\t\\hline\n",
    "\t\t4  & ? & ? & ? & ? \\\\\n",
    "\t\t\\hline\n",
    "\t\t5  & ? & ? & ? & ? \\\\\n",
    "\t\t\\hline\n",
    "\t\t6  & ? & ? & ? & ? \\\\\n",
    "\t\t\\hline\n",
    "\t\t\\hline\n",
    "\\end{array}\n",
    "$$\n",
    "\n",
    "please complete the file named *DHM_parameters.txt* in the current repository."
   ]
  },
  {
   "cell_type": "markdown",
   "metadata": {},
   "source": [
    "Then, update the dictionnary __robotParameters__ with the DHM parameters as follows: \n",
    "\n",
    "*robotParameters['fileDHM'] = \"DHM_parameters.txt\"*\n",
    "\n",
    "*RobotTutorials = ClassRobotModel.RobotModel( **robotParameters )*\n",
    "\n",
    "Look at the resulting *attribute* named *\"self.tableDHM\"*"
   ]
  },
  {
   "cell_type": "code",
   "execution_count": 5,
   "metadata": {},
   "outputs": [
    {
     "name": "stdout",
     "output_type": "stream",
     "text": [
      "Attribute (int): self.numberJoints =  6\n",
      "Attribute (list): self.jointsType =  ['R', 'R', 'R', 'R', 'R', 'R']\n",
      "Attribute (list - 0 if self.jointsType[i] == 'R' / 1 if self.jointsType[i] == 'P'): self.sigma =  [0, 0, 0, 0, 0, 0]\n",
      "Attribute (list - float): self.tableDHM =  [[1.0, 0.0, 0.0, 0.0, 0.5], [2.0, 1.5707963267948966, 0.0, 0.0, 0.0], [3.0, 0.0, 0.7, 1.5707963267948966, 0.0], [4.0, 1.5707963267948966, 0.0, 0.0, 0.2], [5.0, -1.5707963267948966, 0.0, 0.0, 0.0], [6.0, 1.5707963267948966, 0.0, 0.0, 0.0]]\n"
     ]
    }
   ],
   "source": [
    "robotParameters['fileDHM'] = \"DHM_parameters.txt\"\n",
    "RobotTutorials = RobotModel( **robotParameters )\n"
   ]
  },
  {
   "cell_type": "markdown",
   "metadata": {},
   "source": [
    "__Q3-a.__ Write a generic function $TransformMatElem(\\alpha_i, d_i, \\theta_i, r_i)$ which output argument is the homogeneous transform matrix *g* between two successive frames."
   ]
  },
  {
   "cell_type": "code",
   "execution_count": 6,
   "metadata": {},
   "outputs": [],
   "source": [
    "@staticmethod\n",
    "def TransformMatElem( alpha_i, d_i, theta_i, r_i ):\n",
    "    \"\"\" \n",
    "    Computation of the homogeneous transform matrix between two successive frames R_(i-1) and R_i\n",
    "    \n",
    "    Input: \n",
    "        - Four scalar parameters given by the Modified Denavit-Hartenberg (MDH) convention\n",
    "    \n",
    "    Output: \n",
    "        - Homogeneous transform matrix g_(i-1,i) as a \"np.array\"\n",
    "    \"\"\"\n",
    "        \n",
    "    ca, sa = np.cos( alpha_i ), np.sin( alpha_i )\n",
    "    ct, st = np.cos( theta_i ), np.sin( theta_i )\n",
    "    \n",
    "    g_i = np.array( [[ct,      -st,     0,   d_i      ],\n",
    "                     [ca * st, ca * ct, -sa, -r_i * sa],\n",
    "                     [sa * st, sa * ct, ca,  r_i * ca ],\n",
    "                     [0,       0,       0,   1        ]] )\n",
    "    \n",
    "    return g_i\n",
    "\n",
    "RobotModel.TransformMatElem = TransformMatElem\n"
   ]
  },
  {
   "cell_type": "code",
   "execution_count": 7,
   "metadata": {},
   "outputs": [],
   "source": [
    "def approx( u ):\n",
    "    \"\"\"\n",
    "    Displays approximate values\n",
    "    \"\"\"\n",
    "    return np.round( u, 3 )"
   ]
  },
  {
   "cell_type": "markdown",
   "metadata": {},
   "source": [
    "__Q3-b.__Write a function $ComputeDGM(\\text{self}, q)$ which computes the direct geometric model of any robot with series open kinematic chain, taking as input arguments the current configuration."
   ]
  },
  {
   "cell_type": "code",
   "execution_count": 8,
   "metadata": {},
   "outputs": [],
   "source": [
    "def ComputeDGM( self, q_cur ):\n",
    "    \"\"\"\n",
    "    Computation of the Direct Geometric Model (DGM) of the robot given by its MDH parameters for the joint configuration q_cur\n",
    "    \n",
    "    Inputs: \n",
    "        - List of robot's geometric parameters \"self.tableDHM\" given by the Modified Denavit-Hartenberg (MDH) convention\n",
    "        - Number of joints of the robot \"self.numberJoints\"\n",
    "        - List of type of joints of the robot: \"self.sigma\"\n",
    "        - Current joint configuration \"q_cur\"\n",
    "    \n",
    "    Outputs:\n",
    "        - List of the successive homogeneous transform matrices: \"self.list_g_i_1_i = [g_01, ..., g_N_1_N]\"\n",
    "        - List of the successive resulting homogeneous transform matrices: \"self.list_g_0i = [g_01, g_02, ..., g_ON]\"\n",
    "    \"\"\"\n",
    "    \n",
    "    self.list_g_i_1_i, self.list_g_0i = [], []\n",
    "    \n",
    "    for i in range( self.numberJoints ):\n",
    "        alpha_i, d_i, theta_i, r_i = self.tableDHM[i][1:5]\n",
    "        self.list_g_i_1_i.append( self.TransformMatElem( alpha_i, d_i, theta_i + q_cur[i], r_i ) )\n",
    "        if ( i == 0 ):\n",
    "            self.list_g_0i.append( self.list_g_i_1_i[0] )\n",
    "        else:\n",
    "            self.list_g_0i.append( self.list_g_0i[i - 1] @ self.list_g_i_1_i[i] ) # by recursion\n",
    "    \n",
    "    return self.list_g_i_1_i, self.list_g_0i\n",
    "\n",
    "RobotModel.ComputeDGM = ComputeDGM"
   ]
  },
  {
   "cell_type": "markdown",
   "metadata": {},
   "source": [
    "__Q3-c.__ We consider an end-effector mounted at the end of the robot arm. The frame $\\mathcal{R}_E$ attached to the end-effector of the robot is defined by a translation of the frame  $\\mathcal{R}_6$ by a distance $r_E$ along the $z_6$ axis.\n",
    "\n",
    "Specify the four DHM parameters for the tool frame description in the field below.\n"
   ]
  },
  {
   "cell_type": "code",
   "execution_count": 9,
   "metadata": {},
   "outputs": [
    {
     "name": "stdout",
     "output_type": "stream",
     "text": [
      "Attribute (int): self.numberJoints =  6\n",
      "Attribute (list): self.jointsType =  ['R', 'R', 'R', 'R', 'R', 'R']\n",
      "Attribute (list - 0 if self.jointsType[i] == 'R' / 1 if self.jointsType[i] == 'P'): self.sigma =  [0, 0, 0, 0, 0, 0]\n",
      "Attribute (list - float): self.tableDHM =  [[1.0, 0.0, 0.0, 0.0, 0.5], [2.0, 1.5707963267948966, 0.0, 0.0, 0.0], [3.0, 0.0, 0.7, 1.5707963267948966, 0.0], [4.0, 1.5707963267948966, 0.0, 0.0, 0.2], [5.0, -1.5707963267948966, 0.0, 0.0, 0.0], [6.0, 1.5707963267948966, 0.0, 0.0, 0.0]]\n",
      "Attribute (list - float): self.toolDHM =  [0, 0, 0, 0.1]\n"
     ]
    }
   ],
   "source": [
    "robotParameters['toolFrameDHM'] = [0, 0, 0, 0.1]\n",
    "RobotTutorials = RobotModel( **robotParameters )\n"
   ]
  },
  {
   "cell_type": "markdown",
   "metadata": {},
   "source": [
    "Using the results of previous questions, write a function $ComputeToolPose(\\text{self})$  that computes the homogeneous transform matrix $\\overline{g}_{0E}$. This matrix gives the position and the orientation of the frame $\\mathcal{R}_E$ attached to the end-effector of the robot, expressed in the base frame $\\mathcal{R}_0$."
   ]
  },
  {
   "cell_type": "code",
   "execution_count": 10,
   "metadata": {},
   "outputs": [],
   "source": [
    "def ComputeToolPose( self ):\n",
    "    \"\"\" \n",
    "    Computation of the homogeneous transform matrix g0E which gives the position and the orientation of the frame R_E attached to the end-effector of the robot, expressed in the base frame R_0 evaluated at the joint configuration q_cur\n",
    "    \n",
    "    Inputs: \n",
    "        - List of the successive homogeneous transform matrices \"self.list_g_0i\"\n",
    "        - Number of joints of the robot \"self.numberJoints\"\n",
    "        - List of the geometric parameters of the tool \"self.toolDHM\" given by the Modified Denavit-Hartenberg (MDH) convention\n",
    "    \n",
    "    Output: \n",
    "        - Homogeneous transform matrix \"self.g_0E\"\n",
    "    \"\"\"\n",
    "    \n",
    "    alpha_E, d_E, theta_E, r_E = self.toolDHM\n",
    "    self.g_0E = self.list_g_0i[self.numberJoints - 1] @ self.TransformMatElem( alpha_E, d_E, theta_E, r_E )\n",
    "    return self.g_0E\n",
    "\n",
    "RobotModel.ComputeToolPose = ComputeToolPose\n"
   ]
  },
  {
   "cell_type": "markdown",
   "metadata": {},
   "source": [
    "In the following, we consider two joint configurations $q=\\left[q_1, \\ldots, q_6\\right]^t$ of the robot: $q_i=\\left[-\\frac{\\pi}{2}, 0 , -\\frac{\\pi}{2} , -\\frac{\\pi}{2} , -\\frac{\\pi}{2} , -\\frac{\\pi}{2} \\right]^t$ and $q_f=\\left[0, \\frac{\\pi}{4}  , 0 , \\frac{\\pi}{2} , \\frac{\\pi}{2} , 0\\right]^t$.\n",
    "\n",
    "Indicate what are the homogeneous transform matrices $\\overline{g}_{0E}$ evaluated in these two confugrations."
   ]
  },
  {
   "cell_type": "code",
   "execution_count": 11,
   "metadata": {},
   "outputs": [
    {
     "name": "stdout",
     "output_type": "stream",
     "text": [
      "[[-0.  -0.  -1.  -0.1]\n",
      " [ 1.  -0.  -0.  -0.7]\n",
      " [-0.  -1.   0.   0.3]\n",
      " [ 0.   0.   0.   1. ]]\n",
      "\n",
      "[[-0.707  0.707  0.     0.636]\n",
      " [-0.    -0.    -1.    -0.1  ]\n",
      " [-0.707 -0.707  0.     1.136]\n",
      " [ 0.     0.     0.     1.   ]]\n"
     ]
    }
   ],
   "source": [
    "qi = np.pi/2 * np.array( [-1, 0,   -1, -1, -1, -1] )\n",
    "qf = np.pi/2 * np.array( [0,  1/2, 0,   1,  1,  0] )\n",
    "\n",
    "# since ComputeToolPose has no argument, we need to run ComputeDGM to take changes to q into account\n",
    "RobotTutorials.ComputeDGM( qi )\n",
    "RobotTutorials.ComputeToolPose()\n",
    "print( approx( RobotTutorials.g_0E ) )\n",
    "\n",
    "print( \"\" )\n",
    "\n",
    "RobotTutorials.ComputeDGM( qf )\n",
    "RobotTutorials.ComputeToolPose()\n",
    "print( approx( RobotTutorials.g_0E ) )\n"
   ]
  },
  {
   "cell_type": "markdown",
   "metadata": {},
   "source": [
    "__Q4.__ What are the values of positions $P_x, P_y, P_z$ and the parameters related to the orientation $R_{n,q}$ ($n$ being the direction vector and $q \\in \\left[0,\\pi\\right]$ the rotation angle such that $R_{n,q}=R_{0E}$) of the end-effector frame for the two joint configurations $q_i=\\left[-\\frac{\\pi}{2}, 0 , -\\frac{\\pi}{2} , -\\frac{\\pi}{2} , -\\frac{\\pi}{2} , -\\frac{\\pi}{2} \\right]^t$ and $q_f=\\left[0, \\frac{\\pi}{4}  , 0 , \\frac{\\pi}{2} , \\frac{\\pi}{2} , 0\\right]^t$ ($q=\\left[q_1, \\ldots, q_6\\right]^t$)?\n",
    "To do so, write a function $DescribeToolFrame(\\text{self})$ that computes the position vector and the parameters related to the orientation of the end-effector frame for the current configuration."
   ]
  },
  {
   "cell_type": "code",
   "execution_count": 12,
   "metadata": {},
   "outputs": [],
   "source": [
    "def DescribeToolFrame( self ):\n",
    "        \"\"\" \n",
    "        Computation of the position vector and the parameters related to the orientation R_n,q of the end-effector frame for the configuration q as specified in the constructor function \n",
    "                  \n",
    "        Input: \n",
    "           - Direct Geometric Model (DGM) of the robot including its end-effector through \"self.g_0E\"\n",
    "         \n",
    "        Outputs: \n",
    "           - Values of positions P=[Px, Py, Pz]' (in m) of the origin of frame R_E w.r.t. R_0 given in R_0: \"self.P\"\n",
    "           - Orientation parameters R_n,q, as follows:\n",
    "                   - \"self.n\": being the direction vector\n",
    "                   - \"self.q\" in [0,pi] the rotation angle in rad such that R_n,q = R_0E\n",
    "        \"\"\"\n",
    "        \n",
    "        self.P = self.g_0E[0:3, 3]\n",
    "        \n",
    "        r11, r12, r13 = self.g_0E[0,0], self.g_0E[0,1], self.g_0E[0,2]\n",
    "        r21, r22, r23 = self.g_0E[1,0], self.g_0E[1,1], self.g_0E[1,2]\n",
    "        r31, r32, r33 = self.g_0E[2,0], self.g_0E[2,1], self.g_0E[2,2]\n",
    "        \n",
    "        y = 1/2 * np.sqrt( ( r32 - r23 )**2 + ( r13 - r31 )**2 + ( r21 - r12 )**2 )\n",
    "        x = 1/2 * ( r11 + r22 + r33 - 1 )\n",
    "        \n",
    "        self.q = m.atan2( y, x )\n",
    "        self.n = np.array( [r32 - r23, r13 - r31, r21 - r12] / ( 2 * np.sin( self.q ) ) )\n",
    "        \n",
    "        return self.P, ( self.n, self.q )\n",
    "\n",
    "RobotModel.DescribeToolFrame = DescribeToolFrame\n"
   ]
  },
  {
   "cell_type": "code",
   "execution_count": 13,
   "metadata": {},
   "outputs": [
    {
     "name": "stdout",
     "output_type": "stream",
     "text": [
      "[-0.1 -0.7  0.3]\n",
      "[-0.577 -0.577  0.577]\n",
      "2.094\n",
      "\n",
      "[ 0.636 -0.1    1.136]\n",
      "[ 0.281  0.679 -0.679]\n",
      "2.594\n"
     ]
    }
   ],
   "source": [
    "# same as before, we need to make sure that g_0E is up to date\n",
    "RobotTutorials.ComputeDGM( qi )\n",
    "RobotTutorials.ComputeToolPose()\n",
    "RobotTutorials.DescribeToolFrame()\n",
    "\n",
    "print( approx( RobotTutorials.P ) )\n",
    "print( approx( RobotTutorials.n ) )\n",
    "print( approx( RobotTutorials.q ) )\n",
    "\n",
    "print( \"\" )\n",
    "\n",
    "RobotTutorials.ComputeDGM( qf )\n",
    "RobotTutorials.ComputeToolPose()\n",
    "RobotTutorials.DescribeToolFrame()\n",
    "\n",
    "print( approx( RobotTutorials.P ) )\n",
    "print( approx( RobotTutorials.n ) )\n",
    "print( approx( RobotTutorials.q ) )\n"
   ]
  },
  {
   "cell_type": "markdown",
   "metadata": {},
   "source": [
    "## Direct kinematic model"
   ]
  },
  {
   "cell_type": "markdown",
   "metadata": {},
   "source": [
    "__Q5.__ Write a function $ComputeJac\\left(self, q\\right)$ which output is the Jacobian matrix ${}^0J(q)$ (computed by the method of velocities composition).\n",
    "\n",
    "Reminder: the Jacobian matrix relates the velocities in the task coordinates of the end-effector frame in $\\mathcal{R}_0$, for a given joint configuration $q$, to the joint velocities:\n",
    "\\begin{align*}\n",
    "{}^0\\mathcal{V}_{0,E}&= \\begin{bmatrix}^0V_{0,E}\\left(O_E\\right) \\\\ ^0\\omega_{0,E} \\end{bmatrix} = \\begin{bmatrix} {}^0J_v \\left(q\\right)  \\\\ {}^0J_{\\omega} \\left(q\\right)\\end{bmatrix} \\dot{q} = {}^0J\\left(q\\right) \\dot{q}\n",
    "\\end{align*}"
   ]
  },
  {
   "cell_type": "code",
   "execution_count": 14,
   "metadata": {},
   "outputs": [],
   "source": [
    " def ComputeJac( self, q_cur ):\n",
    "        \"\"\" \n",
    "        Computation of the Jacobian matrix mapping the joint velocities to the velocities of the end-effector for a joint configuration \"q_cur\"\n",
    "                \n",
    "        Inputs: \n",
    "           - List defining the types of joints : \"self.jointsType\" \n",
    "           - Number of joints of the robot: \"self.numberJoints\"\n",
    "           - Current configuration \"q_cur\"\n",
    "         \n",
    "        Output: \n",
    "           - Jacobian matrix 0_J in R_0: \"self.oJ\" as np.array\n",
    "        \"\"\"\n",
    "        \n",
    "        # we can finally specify the current value of q, so we can update attributes here\n",
    "        self.ComputeDGM( q_cur )\n",
    "        self.ComputeToolPose()\n",
    "        self.DescribeToolFrame() # technically not needed, but it's more coherent to update everything\n",
    "        \n",
    "        self.oJ = []\n",
    "        for i in range( self.numberJoints ):            \n",
    "            R = self.list_g_0i[i][0:3, 0:3]\n",
    "            Z = np.array( [0, 0, 1] )\n",
    "            giN = np.linalg.inv( self.list_g_0i[i] ) @ self.g_0E\n",
    "            p = giN[0:3, 3]\n",
    "            \n",
    "            if ( self.jointsType[i] == 'P' ):\n",
    "                    J = np.concatenate( ( R @ Z, np.array( [0, 0, 0] ) ) )\n",
    "            elif ( self.jointsType[i] == 'R' ):\n",
    "                    J = np.concatenate( ( R @ np.cross( Z, p ), R @ Z ) )\n",
    "            \n",
    "            self.oJ.append( J.tolist() )\n",
    "        \n",
    "        self.oJ = np.array( self.oJ ).T\n",
    "\n",
    "        return self.oJ\n",
    "        \n",
    "RobotModel.ComputeJac = ComputeJac\n"
   ]
  },
  {
   "cell_type": "markdown",
   "metadata": {},
   "source": [
    "What are the values of the twists at $O_E$ evaluated with $q=q_i$ and $q=q_f$ with the joint velocities $\\dot q = \\left[0.5, 1.0, -0.5, 0.5, 1.0, -0.5\\right]^t$?"
   ]
  },
  {
   "cell_type": "code",
   "execution_count": 15,
   "metadata": {
    "scrolled": true
   },
   "outputs": [
    {
     "name": "stdout",
     "output_type": "stream",
     "text": [
      "[[ 0.7  0.   0.   0.  -0.   0. ]\n",
      " [-0.1 -0.2 -0.2  0.1  0.   0. ]\n",
      " [ 0.   0.7  0.  -0.  -0.1  0. ]\n",
      " [ 0.  -1.  -1.  -0.  -0.  -1. ]\n",
      " [ 0.  -0.  -0.  -0.  -1.  -0. ]\n",
      " [ 1.   0.   0.  -1.  -0.   0. ]]\n",
      "[ 0.35 -0.1   0.6   0.   -1.    0.  ]\n",
      "\n",
      "[[ 0.1   -0.636 -0.141  0.071 -0.071  0.   ]\n",
      " [ 0.636  0.     0.    -0.     0.    -0.   ]\n",
      " [ 0.     0.636  0.141 -0.071 -0.071 -0.   ]\n",
      " [ 0.     0.     0.     0.707  0.707  0.   ]\n",
      " [ 0.    -1.    -1.    -0.    -0.    -1.   ]\n",
      " [ 1.     0.     0.     0.707 -0.707  0.   ]]\n",
      "[-0.551  0.318  0.46   1.061 -0.     0.146]\n"
     ]
    }
   ],
   "source": [
    "qp = np.array( [0.5, 1., -0.5, 0.5, 1., -0.5] )\n",
    "\n",
    "RobotTutorials.ComputeJac( qi )\n",
    "print( approx( RobotTutorials.oJ ) )\n",
    "print( approx( RobotTutorials.oJ @ qp ) )\n",
    "\n",
    "print(\"\")\n",
    "\n",
    "RobotTutorials.ComputeJac( qf )\n",
    "print( approx( RobotTutorials.oJ ) )\n",
    "print( approx( RobotTutorials.oJ @ qp ) )\n"
   ]
  },
  {
   "cell_type": "markdown",
   "metadata": {},
   "source": [
    "__Q6.__ In the rest of the study, we restrict the analysis of operational end-effector velocities to translational velocities via ${}^0J_v \\left(q\\right)$.\n",
    "\n",
    "Qualify the transmission of velocities between the joint and task spaces for the corresponding $q_i$ and $q_f$ configurations: what is the preferred direction to transmit velocity in the task space when the manipulator configuration is $q_i$? Same question for $q_f$? What are the corresponding velocity manipulabilities? \n",
    "To help, you can program a function $QualifyVelocityTransmission(self)$ that analyses the property of the Jacobian matrix. Explain your results."
   ]
  },
  {
   "cell_type": "code",
   "execution_count": 16,
   "metadata": {},
   "outputs": [],
   "source": [
    "def QualifyVelocityTransmission( self ):\n",
    "    \"\"\" \n",
    "    Qualifying the transmission of velocities\n",
    "              \n",
    "    Input:\n",
    "       - Jacobian matrix \"self.oJ\" to be analysed\n",
    "     \n",
    "    Outputs: \n",
    "       - To be defined...\n",
    "    \"\"\"\n",
    "    epsilon = 1e-6 # prevents approximation errors in SVD\n",
    "    \n",
    "    u, s, _ = np.linalg.svd( self.oJ[0:3, :] ) # we only consider linear velocities\n",
    "    \n",
    "    self.preferred_direction = u[:, np.argmax( s )]\n",
    "    \n",
    "    self.velocity_manipulability = 1\n",
    "    for i in range( len( s ) ):\n",
    "        if ( abs( s[i] > epsilon ) ):\n",
    "            self.velocity_manipulability = s[i] * self.velocity_manipulability\n",
    "    \n",
    "    return self.preferred_direction, self.velocity_manipulability\n",
    "\n",
    "RobotModel.QualifyVelocityTransmission = QualifyVelocityTransmission\n"
   ]
  },
  {
   "cell_type": "code",
   "execution_count": 17,
   "metadata": {},
   "outputs": [
    {
     "name": "stdout",
     "output_type": "stream",
     "text": [
      "[ 0.366 -0.326  0.872]\n",
      "0.112\n",
      "\n",
      "[-0.711 -0.097  0.696]\n",
      "0.059\n"
     ]
    }
   ],
   "source": [
    "RobotTutorials.ComputeJac( qi )\n",
    "RobotTutorials.QualifyVelocityTransmission()\n",
    "print( approx( RobotTutorials.preferred_direction ) )\n",
    "print( approx( RobotTutorials.velocity_manipulability ) )\n",
    "\n",
    "print(\"\")\n",
    "\n",
    "RobotTutorials.ComputeJac( qf )\n",
    "RobotTutorials.QualifyVelocityTransmission()\n",
    "print( approx( RobotTutorials.preferred_direction ) )\n",
    "print( approx( RobotTutorials.velocity_manipulability ) )\n"
   ]
  },
  {
   "cell_type": "markdown",
   "metadata": {},
   "source": [
    "## Inverse geometric model"
   ]
  },
  {
   "cell_type": "markdown",
   "metadata": {},
   "source": [
    "__Q7.__ In this study, the resolution of the inverse geometric model is considered numerically by exploiting the inverse differential model. Moreover, the study is restricted to the position only of the robot's end-effector frame in the task space (no constraint on the orientation of the end-effector frame).\n",
    "\n",
    "Using an iterative procedure exploiting the pseudo-inverse of the Jacobian matrix, program a function $ComputeIGM(\\text{self}, X_d, q_0, k_{max}, \\epsilon_x)$ having as input arguments the desired task position $X_d$ and the initial condition $q_0$. Both the maximum number of iterations $k_{max}$ of the algorithm and the norm of the tolerated Cartesian error $|X_d - DGM(q_{k})|<\\epsilon_x$, define the stopping criteria of the algorithm."
   ]
  },
  {
   "cell_type": "code",
   "execution_count": 18,
   "metadata": {},
   "outputs": [],
   "source": [
    "def ComputeIGM( self, X_d, q_0, k_max, eps_x ):    \n",
    "        \"\"\" \n",
    "        Computation of the Inverse Geometric Model (IGM) mapping the Cartesian pose to the joint vector \"q\"\n",
    "                \n",
    "        Inputs: \n",
    "           - Desired Cartesian vector \"X_d\" as a np.array to be reached by the robot \n",
    "           - Initial condition \"q_0\" as a np.array\n",
    "           - Number \"k_max\" of maximal iteration in the recursive algorithm \n",
    "           - Norm of the tolerated Cartesian error \"eps_x\"\n",
    "         \n",
    "        Outputs: \n",
    "           - List \"self.list_q_IGM\" of the joint vectors computed at each iteration of the recursive algorithm \n",
    "           - Returned \"self.list_q_IGM[-1]\" of the final found joint vector, solution of the IGM\n",
    "           \n",
    "        \"\"\"\n",
    "        \n",
    "        k = 0\n",
    "        q = q_0\n",
    "        self.ComputeJac( q )\n",
    "        self.list_q_IGM = [q]\n",
    "        \n",
    "        while ( np.linalg.norm( X_d - self.P ) > eps_x and k < k_max ):\n",
    "            k = k + 1\n",
    "            q = self.list_q_IGM[-1]\n",
    "            self.ComputeJac( q )\n",
    "            self.list_q_IGM.append( q + np.linalg.pinv( self.oJ )[:, 0:3] @ ( X_d - self.P ) )\n",
    "        \n",
    "        return self.list_q_IGM, self.list_q_IGM[-1]\n",
    "\n",
    "RobotModel.ComputeIGM = ComputeIGM\n"
   ]
  },
  {
   "cell_type": "markdown",
   "metadata": {},
   "source": [
    "Compute $q^{\\ast}$ when the function is called with the following arguments:\n",
    "\n",
    "a) $X_d=X_{d_i}=\\left(-0.1, -0.7, 0.3\\right)^t$, $q_0=\\left[ -1.57, 0.00 , -1.47, -1.47, -1.47 , -1.47 \\right.$ $\\left., -1.47 \\right]$, $k_{max}=100$, $\\epsilon_x=1$mm?\n",
    "\n",
    "b) $X_d=X_{d_f}=\\left(0.64 , -0.10, 1.14\\right)^t$, $q_0=\\left[ 0 , 0.80 , 0.00 , 1.00 , 2.00 , 0.00 \\right]$, $k_{max}=100$, $\\epsilon_x=1$mm?\n",
    "\n",
    "Check the accuracy of the results using the function calculated in __Q3.__"
   ]
  },
  {
   "cell_type": "code",
   "execution_count": 19,
   "metadata": {},
   "outputs": [
    {
     "name": "stdout",
     "output_type": "stream",
     "text": [
      "[-1.572  0.015 -1.541 -1.478 -1.464 -1.414]\n",
      "[-0.1 -0.7  0.3]\n",
      "0.00031935922526185384\n",
      "\n",
      "[ -6.407 -18.324 -68.075 -31.883 -31.884 301.935]\n",
      "[ 0.64 -0.1   1.14]\n",
      "8.464006962579012e-06\n"
     ]
    }
   ],
   "source": [
    "k_max = 100\n",
    "eps_x = 1e-3\n",
    "\n",
    "X_d_i = np.array( [-0.1, -0.7, 0.3] )\n",
    "q_0 = np.array( [-1.57, 0.0, -1.47, -1.47, -1.47, -1.47] )\n",
    "\n",
    "_, q_star = RobotTutorials.ComputeIGM( X_d_i, q_0, k_max, eps_x )\n",
    "print( approx( q_star ) )\n",
    "print( approx( RobotTutorials.P ) )\n",
    "print( np.linalg.norm( X_d_i - RobotTutorials.P ) )\n",
    "\n",
    "print( \"\" )\n",
    "\n",
    "X_d_f = np.array( [0.64, -0.1, 1.14] )\n",
    "q_0 = np.array( [0.0, 0.8, 0.0, 1.0, 2.0, 0.0] )\n",
    "\n",
    "_, q_star = RobotTutorials.ComputeIGM( X_d_f, q_0, k_max, eps_x )\n",
    "print( approx( q_star ) )\n",
    "print( approx( RobotTutorials.P ) )\n",
    "print( np.linalg.norm( X_d_f - RobotTutorials.P ) )\n"
   ]
  },
  {
   "cell_type": "markdown",
   "metadata": {},
   "source": [
    "## Inverse kinematic model"
   ]
  },
  {
   "cell_type": "markdown",
   "metadata": {},
   "source": [
    "In this question, the trajectory of the end-effector to be followed in the task space must allow the desired final position $X_{d_f}$ to be reached by following a straight line in the task space starting at the initial position $X_{d_i}$. This rectilinear motion is carried out at a constant speed $V=1m.s^{-1}$ and is sampled at a period $T_e=1$ms. The position of the end effector at the time instant $kT_e$ is noted $X_{d_k}$. The initial configuration of the robot is given by $q_i$ (found in question __Q4.__).\n",
    "\n",
    "__Q8.__ Using the inverse differential kinematic model, write a function entitled $ComputeIKM( \\text{self}, X_{d_i}, X_{d_f}, V, T_e, q_i)$ realizing the coordinate transform to provide the series of setpoint values $q_{d_k}$ corresponding to the $X_{d_k}$ to the joint drivers. To do this, after having programmed the time law corresponding to the required motion, you can use the function developed in question __Q7__ capable of calculating the iterative MGI from the pseudo-inverse of the Jacobian matrix."
   ]
  },
  {
   "cell_type": "code",
   "execution_count": 20,
   "metadata": {},
   "outputs": [],
   "source": [
    "def ComputeIKM( self, X_d_i, X_d_f, V, Te, q_i, k_max, eps_x ):    \n",
    "        \"\"\" \n",
    "        Computation of the Inverse differential Kinematic Model (IKM) making the coordinate transform to provide the series of setpoint values qdk corresponding to the Xdk to the joint drivers\n",
    "        \n",
    "        Inputs: \n",
    "           - Trajectory of the end effector to be followed in the task space between:\n",
    "               - the initial position \"X_d_i\"\n",
    "               - the desired final position \"X_d_f\" to be reached.\n",
    "           - Rectilinear motion carried out :\n",
    "               - at a constant speed \"V\"\n",
    "               - sampled at a period \"Te\"\n",
    "           - Initial configuration of the robot \"q_i\"\n",
    "           - Number \"k_max\" of maximal iteration in the recursive algorithm (to be used with \"self.ComputeIGM\")\n",
    "           - Norm of the tolerated Cartesian error \"eps_x\" (to be used with \"self.ComputeIGM\")\n",
    "           \n",
    "        Outputs: \n",
    "           - List \"self.discreteTime\" that defines the the sampled temporal series for each time step\n",
    "           - List \"self.list_X_d_k\" of the intermediate Cartesian poses to be reached by the robot\n",
    "           - List \"self.list_q_dk\" of the joint vectors computed at each iteration k of the recursive algorithm (series of setpoint values qdk corresponding to the Xdk to the joint drivers)\n",
    "        \"\"\"\n",
    "        \n",
    "        norm = np.linalg.norm( X_d_f - X_d_i )\n",
    "        n_steps = (int)( norm / ( V * Te ) )\n",
    "        \n",
    "        self.discreteTime = [0]\n",
    "        \n",
    "        X_d = X_d_i\n",
    "        self.list_X_d_k = [X_d]\n",
    "        \n",
    "        _, q_star = self.ComputeIGM( X_d_i, q_i, k_max, eps_x )\n",
    "        self.list_q_dk = [q_star]\n",
    "        \n",
    "        percent = 0\n",
    "        for i in range( n_steps ):\n",
    "            if ( 100 * i / n_steps > percent + 5 ):\n",
    "                percent = percent + 5\n",
    "                print( str( percent ) + \"%\" )\n",
    "                \n",
    "            self.discreteTime.append( i * Te )\n",
    "            \n",
    "            X_d = self.list_X_d_k[-1] + ( X_d_f - X_d_i ) / norm * V * Te\n",
    "            self.list_X_d_k.append( X_d )\n",
    "            \n",
    "            _, q_star = self.ComputeIGM( X_d, self.list_q_dk[-1], k_max, eps_x )\n",
    "            self.list_q_dk.append( q_star )\n",
    "        \n",
    "        self.list_X_d_k = np.array( self.list_X_d_k )\n",
    "        self.list_q_dk = np.array( self.list_q_dk )\n",
    "        \n",
    "        return self.discreteTime, self.list_X_d_k, self.list_q_dk\n",
    "\n",
    "RobotModel.ComputeIKM = ComputeIKM\n"
   ]
  },
  {
   "cell_type": "markdown",
   "metadata": {},
   "source": [
    "Check that the successively reached positions of the end-effector is following the desired trajectory. To do so, you can plot the error between the sequence of positions reached by the end device and the position set points at each time step."
   ]
  },
  {
   "cell_type": "code",
   "execution_count": 21,
   "metadata": {},
   "outputs": [
    {
     "name": "stdout",
     "output_type": "stream",
     "text": [
      "5%\n",
      "10%\n",
      "15%\n",
      "20%\n",
      "25%\n",
      "30%\n",
      "35%\n",
      "40%\n",
      "45%\n",
      "50%\n",
      "55%\n",
      "60%\n",
      "65%\n",
      "70%\n",
      "75%\n",
      "80%\n",
      "85%\n",
      "90%\n",
      "95%\n",
      "[ 0.64 -0.1   1.14]\n",
      "0.00011810475952698976\n"
     ]
    },
    {
     "data": {
      "image/png": "[encoded data removed]",
      "text/plain": [
       "<Figure size 640x480 with 1 Axes>"
      ]
     },
     "metadata": {},
     "output_type": "display_data"
    }
   ],
   "source": [
    "k_max = 100\n",
    "eps_x = 1e-3\n",
    "\n",
    "V = 1.0\n",
    "Te = 1e-3\n",
    "\n",
    "RobotTutorials.ComputeIKM( X_d_i, X_d_f, V, Te, qi, k_max, eps_x )\n",
    "\n",
    "X_reached = []\n",
    "for i in range( len( RobotTutorials.list_X_d_k ) ):\n",
    "    RobotTutorials.ComputeDGM( RobotTutorials.list_q_dk[i] )\n",
    "    RobotTutorials.ComputeToolPose()\n",
    "    RobotTutorials.DescribeToolFrame()\n",
    "    X_reached.append( RobotTutorials.P )\n",
    "\n",
    "norms = [np.linalg.norm( X_reached[i] - RobotTutorials.list_X_d_k[i] )\n",
    "         for i in range( len( RobotTutorials.list_X_d_k ) ) ]\n",
    "\n",
    "plt.plot( RobotTutorials.discreteTime, norms )\n",
    "\n",
    "print( approx( X_reached[-1] ) )\n",
    "print( np.linalg.norm( X_reached[-1] - X_d_f ) )\n"
   ]
  },
  {
   "cell_type": "markdown",
   "metadata": {},
   "source": [
    "__Q9.__ Plot the temporal evolution of the joint variables $q_1$ to $q_6$ calculated in the previous question. For each joint variable, graphically overlay the allowable extreme values corresponding to the joint limits:\n",
    "\\begin{align*}\n",
    "q_{min} = \\left[\\begin{array}{c}{ -\\pi , -\\frac{\\pi}{2} , -\\pi , -\\pi , -\\frac{\\pi}{2}, -\\pi }\\end{array}\\right] \n",
    "\\end{align*}\n",
    "and\n",
    "\\begin{align*}\n",
    "q_{max} = \\left[\\begin{array}{c}{ 0 , \\frac{\\pi}{2} , 0  ,\\frac{\\pi}{2}, \\frac{\\pi}{2} , \\frac{\\pi}{2} }\\end{array}\\right] \n",
    "\\end{align*}"
   ]
  },
  {
   "cell_type": "code",
   "execution_count": 22,
   "metadata": {},
   "outputs": [
    {
     "data": {
      "image/png": "[encoded data removed]",
      "text/plain": [
       "<Figure size 640x480 with 6 Axes>"
      ]
     },
     "metadata": {},
     "output_type": "display_data"
    }
   ],
   "source": [
    "q_min = -np.pi * np.array( [1.0, 0.5, 1.0, 1.0, 0.5, 1.0] )\n",
    "q_max = np.pi/2 * np.array( [0.0, 1.0, 0.0, 1.0, 1.0, 1.0] )\n",
    "\n",
    "fig, axs = plt.subplots(2, 3)\n",
    "axs = axs.reshape( -1 )\n",
    "\n",
    "for i in range( 6 ):\n",
    "    axs[i].axhline( y=q_max[i], color=\"r\" )\n",
    "    axs[i].plot( RobotTutorials.list_q_dk.T[i] )\n",
    "    axs[i].axhline( y=q_min[i], color=\"r\" )\n"
   ]
  },
  {
   "cell_type": "markdown",
   "metadata": {},
   "source": [
    "Comment on the evolution of the joint variables obtained previously."
   ]
  },
  {
   "cell_type": "markdown",
   "metadata": {},
   "source": [
    "---\n",
    "\n",
    "The spikes correspond to iterations when the IGM didn't converge, resulting in an incorrect value of $q$, and leading to extrem constraints in the system. Increasing $k\\_max$ or reducing $eps\\_x$ can help prevent those spikes, but we need to dynamically take those limits into account when computing the ICM.\n",
    "\n",
    "---"
   ]
  },
  {
   "cell_type": "markdown",
   "metadata": {},
   "source": [
    "__Q10.__ In this question, we modify the algorithm developed in question __Q8__. We wish to take into account the distance of the values taken by the joint variables from their limits in the computation of the inverse kinematic model.\n",
    "\n",
    "To do so, you will need to consider a secondary task aiming at keeping some distance from the articular stops $q_{min}$ and $q_{max}$. By the technique of the gradient projected into the null space of ${}^0J_v \\left(q\\right)$, you will consider minimizing the following potential function:\n",
    "\\begin{align*}\n",
    "\t\t\tH_{lim}\\left(q\\right) = \\sum_{i=1}^{n} \\left(\\frac{q_i-\\overline{q}_{i}}{q_{max}-q_{min}}\\right)^2 \\hspace{0.2cm} \\text{where} \\hspace{0.2cm} \\overline{q}_{i} =  \\frac{q_{max}+q_{min}}{2} \n",
    "\\end{align*}\n",
    "\n",
    "First, provide below the theoretical analytical solution for the joint variables to this problem."
   ]
  },
  {
   "cell_type": "markdown",
   "metadata": {},
   "source": [
    "---\n",
    "\n",
    "The theoretical solution for this problem is:\n",
    "\n",
    "$ \\dot{q}^{\\ast} := J_1^{\\sharp} \\: \\dot{X}_{d_1} + ( J_2 \\: N_{J_1} )^{\\sharp} \\: \\left( \\dot{X}_{d_2} - J_2 \\: J_1^{\\sharp} \\: \\dot{X}_{d_1} \\right) $\n",
    "\n",
    "---"
   ]
  },
  {
   "cell_type": "markdown",
   "metadata": {},
   "source": [
    "Then, develop a new function $ComputeIKMlimits(\\text{self}, X_{d_i}, X_{d_f}, V, T_e, q_i, q_{min}, q_{max})$ which implements the inverse kinematic model able to take into account the previous secondary task."
   ]
  },
  {
   "cell_type": "code",
   "execution_count": 23,
   "metadata": {},
   "outputs": [],
   "source": [
    "def ComputeIKMlimits(self, X_d_i, X_d_f, V, Te, q_i, k_max, eps_x, q_min, q_max):    \n",
    "        \"\"\" \n",
    "        Computation of the Inverse differential Kinematic Model (IKM) making the coordinate transform to provide the series of setpoint values qdk corresponding to the Xdk to the joint drivers while taking into account the joint limits\n",
    "        \n",
    "        Inputs: \n",
    "           - Trajectory of the end effector to be followed in the task space between:\n",
    "               - the initial position \"X_d_i\"\n",
    "               - the desired final position \"X_d_f\" to be reached.\n",
    "           - Rectilinear motion carried out :\n",
    "               - at a constant speed \"V\"\n",
    "               - sampled at a period \"Te\"\n",
    "           - Initial configuration of the robot \"q_i\"\n",
    "           - Number \"k_max\" of maximal iteration in the recursive algorithm (to be used with \"self.ComputeIGM\")\n",
    "           - Norm of the tolerated Cartesian error \"eps_x\" (to be used with \"self.ComputeIGM\")\n",
    "           - Vector of lower bound of joint variable \"q_min\"\n",
    "           - Vector of upper bound of joint variable \"q_max\"\n",
    "           \n",
    "        Outputs: \n",
    "           - List \"self.list_q_dk_limits\" of the joint vectors computed at each iteration k of the recursive algorithm (series of setpoint values qdk corresponding to the Xdk to the joint drivers)\n",
    "           - List \"self.list_X_d_k\" of the intermediate Cartesian poses to be reached by the robot    \n",
    "        \"\"\"\n",
    "        \n",
    "        norm = np.linalg.norm( X_d_f - X_d_i )\n",
    "        n_steps = (int)( norm / ( V * Te ) )\n",
    "        q_mean = ( q_min + q_max ) / 2\n",
    "        \n",
    "        self.discreteTime = [0]\n",
    "        \n",
    "        X_d = X_d_i\n",
    "        self.list_X_d_k = [X_d]\n",
    "        \n",
    "        _, q_star = self.ComputeIGM( X_d_i, q_i, k_max, eps_x )\n",
    "        self.list_q_dk = [q_star]\n",
    "        \n",
    "        percent = 0\n",
    "        for i in range( n_steps ):\n",
    "            if ( 100 * i / n_steps > percent + 5 ):\n",
    "                percent = percent + 5\n",
    "                print( str( percent ) + \"%\" )\n",
    "            \n",
    "            self.discreteTime.append( i * Te )\n",
    "            \n",
    "            X_d = self.list_X_d_k[-1] + ( X_d_f - X_d_i ) / norm * V * Te\n",
    "            self.list_X_d_k.append( X_d )\n",
    "            \n",
    "            _, q_star = self.ComputeIGM( X_d, self.list_q_dk[-1], k_max, eps_x )\n",
    "            self.list_q_dk.append( q_star )\n",
    "        \n",
    "        self.list_X_d_k = np.array( self.list_X_d_k )\n",
    "        self.list_q_dk = np.array( self.list_q_dk )\n",
    "        \n",
    "        return self.discreteTime, self.list_X_d_k, self.list_q_dk\n",
    "            \n",
    "RobotModel.ComputeIKMlimits = ComputeIKMlimits\n"
   ]
  },
  {
   "cell_type": "markdown",
   "metadata": {},
   "source": [
    "Plot the new temporal evolution of the joint variables $q_1$ to $q_6$ for the reference trajectory given in the question __Q9__."
   ]
  },
  {
   "cell_type": "code",
   "execution_count": 24,
   "metadata": {},
   "outputs": [
    {
     "data": {
      "image/png": "[encoded data removed]",
      "text/plain": [
       "<Figure size 640x480 with 6 Axes>"
      ]
     },
     "metadata": {},
     "output_type": "display_data"
    }
   ],
   "source": [
    "q_min = -np.pi * np.array( [1.0, 0.5, 1.0, 1.0, 0.5, 1.0] )\n",
    "q_max = np.pi/2 * np.array( [0.0, 1.0, 0.0, 1.0, 1.0, 1.0] )\n",
    "\n",
    "fig, axs = plt.subplots(2, 3)\n",
    "axs = axs.reshape( -1 )\n",
    "\n",
    "for i in range( 6 ):\n",
    "    axs[i].axhline( y=q_max[i], color=\"r\" )\n",
    "    axs[i].plot( RobotTutorials.list_q_dk.T[i][:1000] )\n",
    "    axs[i].axhline( y=q_min[i], color=\"r\" )\n"
   ]
  },
  {
   "cell_type": "markdown",
   "metadata": {},
   "source": [
    "Comment on the values taken by the joint variables."
   ]
  },
  {
   "cell_type": "markdown",
   "metadata": {},
   "source": [
    "---\n",
    "\n",
    "With a correct version of $ComputeIKMlimits$, the IKM should never force impossible constraints anymore, so the joint variables should stay inside the limits without creating spikes. \n",
    "\n",
    "---"
   ]
  },
  {
   "cell_type": "markdown",
   "metadata": {},
   "source": [
    "# Robotics - Tutorial 2 : Dynamics and control"
   ]
  },
  {
   "cell_type": "markdown",
   "metadata": {},
   "source": [
    "## Introduction"
   ]
  },
  {
   "cell_type": "markdown",
   "metadata": {},
   "source": [
    "We propose to study the dynamic modeling and control of the previous robot manipulator developed by the *Interactive Robotics Laboratory* of the *CEA List*. Its geometric and kinematic models were studied in Tutorial 1.\n",
    "This is a continuation of Tutorial 1. Solutions of questions from tutorial 1 are sometimes required for some of the questions of the present tutorial.\n",
    "\n",
    "The numerical values of the robot parameters, required for the completion of this tutorial, are specified in the table below.\n",
    "\n",
    "$$\n",
    "\\begin{aligned}\n",
    "& \\text {Table. Numerical values of some robot parameters.}\\\\\n",
    "&\\begin{array}{cccc}\n",
    "\\hline\n",
    "\t\t\\text{Parameters} &\t\\text{Numerical values} &\t\\text{Type of parameter} \\\\ \n",
    "\t\t\\hline\n",
    "\t\t\t\tx_{G_1}, y_{G_1}, z_{G_1} & 0m, 0m, -0.25m & \\text{Coordinates of G_1 given in frame } \\mathcal{R}_1 \\\\\n",
    "\t\tx_{G_2}, y_{G_2}, z_{G_2} & 0.35m, 0m, 0m & \\text{Coordinates of G_2 given in frame } \\mathcal{R}_2 \\\\\n",
    "\t\tx_{G_3}, y_{G_3}, z_{G_3} & 0m, -0.1m, 0m & \\text{Coordinates of G_3 given in frame } \\mathcal{R}_3 \\\\\n",
    "\t\tx_{G_4}, y_{G_4}, z_{G_4} & 0m, 0m, 0m & \\text{Coordinates of G_4 given in frame } \\mathcal{R}_4 \\\\\n",
    "\t\tx_{G_5}, y_{G_5}, z_{G_5} & 0m, 0m, 0m & \\text{Coordinates of G_5 given in frame } \\mathcal{R}_5 \\\\\n",
    "\t\tx_{G_6}, y_{G_6}, z_{G_6} & 0m, 0m, 0m & \\text{Coordinates of G_6 given in frame } \\mathcal{R}_6 \\\\\n",
    "\t\tm_1 & 15.0kg & \\text{Mass of the body 1}\\\\\n",
    "\t\tm_2 & 10.0kg & \\text{Mass of the body 2}\\\\\n",
    "\t\tm_3 & 1.0kg & \\text{Mass of the body 3}\\\\\n",
    "\t\tm_4 & 7.0kg & \\text{Mass of the body 4}\\\\\n",
    "\t\tm_5 & 1.0kg & \\text{Mass of the body 5}\\\\\n",
    "\t\tm_6 & 0.5kg & \\text{Mass of the body 6}\\\\\n",
    "\t\tI_1 & \\begin{bmatrix} 0.80 & 0 & 0.05 \\\\ 0 & 0.80 & 0 \\\\ 0.05 & 0 & 0.10 \\end{bmatrix}_{\\mathcal{R}_{O_1}} kg.m^2 & \\text{Inertial tensor of the body 1}\\\\\n",
    "\t\tI_2 & \\begin{bmatrix} 0.10 & 0 & 0.10 \\\\ 0 & 1.50 & 0 \\\\ 0.10 & 0 & 1.50 \\end{bmatrix}_{\\mathcal{R}_{O_2}} kg.m^2 & \\text{Inertial tensor of the body 2}\\\\\n",
    "\t\tI_3 & \\begin{bmatrix} 0.05 & 0 & 0 \\\\ 0 & 0.01 & 0 \\\\ 0 & 0 & 0.05 \\end{bmatrix}_{\\mathcal{R}_{O_3}} kg.m^2 & \\text{Inertial tensor of the body 3}\\\\\n",
    "\t\tI_4 & \\begin{bmatrix} 0.50 & 0 & 0 \\\\ 0 & 0.50 & 0 \\\\ 0 & 0 & 0.05 \\end{bmatrix}_{\\mathcal{R}_{O_4}} kg.m^2 & \\text{Inertial tensor of the body 4}\\\\\n",
    "\t\tI_5 & \\begin{bmatrix} 0.01 & 0 & 0 \\\\ 0 & 0.01 & 0 \\\\ 0 & 0 & 0.01 \\end{bmatrix}_{\\mathcal{R}_{O_5}} kg.m^2 & \\text{Inertial tensor of the body 5}\\\\\n",
    "\t\tI_6 & \\begin{bmatrix} 0.01 & 0 & 0 \\\\ 0 & 0.01 & 0 \\\\ 0 & 0 & 0.01 \\end{bmatrix}_{\\mathcal{R}_{O_6}} kg.m^2 & \\text{Inertial tensor of the body 6}\\\\\n",
    "\t\tJ_{m_i} (i=1,\\ldots,6) &\t10\\times10^{-6} kg.m^2 & \\text{Moment of inertia of the actuator rotor} \t\\\\\n",
    "\t\tr_{red_i} (i=1,\\ldots,3) &\t100 & \\text{Reduction ratio}\t\\\\\n",
    "\t\tr_{red_i} (i=4,\\ldots,6) &\t70 & \\text{Reduction ratio}\t\\\\\t\n",
    "\t\tF_{v_1}, \\ldots, F_{v_6} &\t10 N.m.rad^{-1}.s & \\text{Joint viscous frictions} \t\\\\\n",
    "\t\t\\tau_{max_i} (i=1,\\ldots,6) &\t5 N.m & \\text{Maximal motor torques} \t\\\\\n",
    "\\hline\n",
    "\\end{array}\n",
    "\\end{aligned}\n",
    "$$\n",
    "\n",
    "The use of *Python* programming langage is required to perform this tutorial.\n",
    "\n",
    "In the following, you will still progressively update the previous *Dictionnary* in *Python* containing the robot parameters, named __robotParameters__.\n",
    "\n",
    "Please add the following items to the *Dicitionnary* as follows."
   ]
  },
  {
   "cell_type": "code",
   "execution_count": 25,
   "metadata": {},
   "outputs": [
    {
     "name": "stdout",
     "output_type": "stream",
     "text": [
      "Attribute (int): self.numberJoints =  6\n",
      "Attribute (list): self.jointsType =  ['R', 'R', 'R', 'R', 'R', 'R']\n",
      "Attribute (list - 0 if self.jointsType[i] == 'R' / 1 if self.jointsType[i] == 'P'): self.sigma =  [0, 0, 0, 0, 0, 0]\n",
      "Attribute (list - float): self.tableDHM =  [[1.0, 0.0, 0.0, 0.0, 0.5], [2.0, 1.5707963267948966, 0.0, 0.0, 0.0], [3.0, 0.0, 0.7, 1.5707963267948966, 0.0], [4.0, 1.5707963267948966, 0.0, 0.0, 0.2], [5.0, -1.5707963267948966, 0.0, 0.0, 0.0], [6.0, 1.5707963267948966, 0.0, 0.0, 0.0]]\n",
      "Attribute (list - float): self.toolDHM =  [0, 0, 0, 0.1]\n",
      "Attribute (list - array of float): self.coordCentersMass =  [array([ 0.  ,  0.  , -0.25]), array([0.35, 0.  , 0.  ]), array([ 0. , -0.1,  0. ]), array([0, 0, 0]), array([0, 0, 0]), array([0, 0, 0])]\n"
     ]
    }
   ],
   "source": [
    "# Adding the coordinates of all centers of mass as a list of 3 coordinates\n",
    "x_G1 = 0 ; y_G1 = 0 ; z_G1 =-0.25\n",
    "x_G2 = 0.35 ; y_G2 = 0 ; z_G2 = 0\n",
    "x_G3 = 0 ; y_G3 = -0.1 ; z_G3 = 0\n",
    "x_G4 = 0 ; y_G4 = 0 ; z_G4 = 0\n",
    "x_G5 = 0 ; y_G5 = 0 ; z_G5 = 0\n",
    "x_G6 = 0 ; y_G6 = 0 ; z_G6 = 0\n",
    "\n",
    "robotParameters['coordCentersMass'] = [np.array( [x_G1, y_G1, z_G1] ),\n",
    "                                       np.array( [x_G2, y_G2, z_G2] ),\n",
    "                                       np.array( [x_G3, y_G3, z_G3] ),\n",
    "                                       np.array( [x_G4, y_G4, z_G4] ),\n",
    "                                       np.array( [x_G5, y_G5, z_G5] ),\n",
    "                                       np.array( [x_G6, y_G6, z_G6] )]\n",
    "\n",
    "RobotTutorials = RobotModel( **robotParameters )\n"
   ]
  },
  {
   "cell_type": "markdown",
   "metadata": {},
   "source": [
    "The matrix form of the inverse dynamic model for rigid robot manipulator is recalled below:\n",
    "\\begin{align*}\n",
    "\t\t\t\tA\\left(q\\right)\\ddot q + C\\left(q, \\dot q\\right)\\dot q + G\\left(q \\right) + \\Gamma_f\\left(\\dot q\\right) = \\Gamma\n",
    "\\end{align*}\n",
    "with\n",
    "\\begin{align*}\n",
    " & A\\left(q\\right) \\in \\mathbb{R}^{6 \\times 6} \\text{ : inertia matrix, symmetric and positive definite}; \\\\\n",
    " & C\\left(q, \\dot q\\right)\\dot q \\in \\mathbb{R}^{6} \\text{ : vector of joint torques due to the Coriolis and centrifugal forces};\\\\\n",
    " & G\\left(q \\right)\\in \\mathbb{R}^{6} \\text{ : vector of joint torques due to gravity}; \\\\\n",
    " & \\Gamma_f\\left( \\dot q\\right)=\\begin{bmatrix} \\tau_{f_1} & \\ldots & \\tau_{f_6} \\end{bmatrix} ^t\\in \\mathbb{R}^{6} \\text{ : vector of joint friction torques}.\\\\\n",
    "\\end{align*}\n",
    "\n",
    "The vectors of joint positions, velocities and accelerations are denoted respectively $q = \\left[ q_1, \\ldots, q_6 \\right]^t$, $\\dot q = \\left[\\dot{q}_1, \\ldots, \\dot{q}_6 \\right]^t$, $\\ddot q = \\left[ \\ddot{q}_1, \\ldots,\\ddot{q}_6 \\right]^t$, and the vector of the joint torques is denoted $\\Gamma  = \\left[ \\tau _1, \\ldots,\\tau_6 \\right]^t$. The frames $\\mathcal{R}_i$ attached to the links of the robot have been defined in Tutorial 1, __Q1__."
   ]
  },
  {
   "cell_type": "markdown",
   "metadata": {},
   "source": [
    "__Q11.__ The objective of this question is to determine the velocity ${}{}^0V_{G_i}$ of the center of mass $G_i$ and the rotation speed ${}{}^0\\omega_i$ of all the rigid bodies $\\mathcal{C}_i$ in the frame $\\mathcal{R}_0$.\n",
    "\n",
    "Write a function $ComputeJacGi(\\text{self}, q)$ which returns the Jacobian matrices ${}{}^0J_{v_{G_i}}$ and ${}^0J_{\\omega_i}$ defined as follows:\n",
    "\\begin{align*}\n",
    "\t\t{}^0V_{G_i} ={}^0J_{v_{G_i}} \\left(q\\right) \\dot{q}   \\hspace{0.5cm} \\text{and} \\hspace{0.5cm} {}^0\\omega_{i} = {}^0J_{\\omega_i}\\left(q\\right)\\dot{q}.\n",
    "\\end{align*}\n",
    "\n",
    "To answer this question, are useful: the functions developed in question __Q3__ and the function $ComputeJac(\\text{self},q)$ developed in question __Q5__, providing the Jacobian ${}^0J_{O_E}$ which is used in the computation of the velocity ${}^0\\mathcal{V}_{0,E}$ of the end-effector $O_E$."
   ]
  },
  {
   "cell_type": "code",
   "execution_count": 26,
   "metadata": {},
   "outputs": [],
   "source": [
    "def PreProd( u ):\n",
    "    \"\"\"\n",
    "    Returns the prepdroduct matrix of u, such that u ^ v = PreProd( u ) @ v for all v\n",
    "    \"\"\"\n",
    "    \n",
    "    return np.array( [[0,     -u[2], u[1] ],\n",
    "                      [u[2],  0,     -u[0]],\n",
    "                      [-u[1], u[0],  0    ]] )\n"
   ]
  },
  {
   "cell_type": "code",
   "execution_count": 27,
   "metadata": {},
   "outputs": [],
   "source": [
    "def ComputeJacGi( self, q_cur ):\n",
    "    \"\"\" \n",
    "    Computation of the list of the Jacobian matrices mapping the joint velocities to the velocities of the centers of mass Gi for all the rigid bodies Ci in the frame R0 for a joint configuration \"q_cur\"\n",
    "    \n",
    "    Inputs:\n",
    "        - List of the successive resulting homogeneous transform matrices \"self.list_g_0i\"\n",
    "        - Direct Geometric Model through homogeneous matrix \"self.g_0E\"\n",
    "        - List \"self.coordCentersMass\" of the coordinates of the centers of mass of all the bodies\n",
    "        - Number of joints \"self.numberJoints\"\n",
    "        - Current configuration \"q_cur\"\n",
    "    \n",
    "    Outputs: \n",
    "        - List \"self.list_oJGi\" of all the full Jacobian matrices 0_JGi in R_0 as a np.array\n",
    "        - List \"self.list_oJ_VGi\" of all the submatrices of Jacobian matrices 0_JGi in R_0 related to the translational velocities as a np.array\n",
    "        - List \"self.list_oJ_wGi\" of all the submatrices of Jacobian matrices 0_JGi in R_0 related to the angular velocities as a np.array\n",
    "    \n",
    "    \"\"\"\n",
    "    \n",
    "    self.ComputeJac( q_cur ) # ComputeJac also updates the model\n",
    "\n",
    "    self.list_oJGi, self.list_oJ_VGi, self.list_oJ_wGi = [], [], []\n",
    "    \n",
    "    for i in range( self.numberJoints ):\n",
    "        g_0i = self.list_g_0i[i]\n",
    "        O_OEOi = -self.g_0E[0:3, 3] + g_0i[0:3, 3] # = O_OEO0 + O_O0Oi + = -O_O0OE + O_O0Oi\n",
    "        O_OiGi = g_0i[0:3, 0:3] @ self.coordCentersMass[i] # = R_0i * i_OiGi\n",
    "        O_OEGi = O_OEOi + O_OiGi\n",
    "        \n",
    "        preprod = PreProd( O_OEGi )\n",
    "        \n",
    "        M = np.block ( [[np.eye( 3 ),          -preprod    ],\n",
    "                        [np.zeros( ( 3, 3 ) ), np.eye( 3 ) ]] )\n",
    "        oJ = np.concatenate( ( self.oJ[:, :i + 1], np.zeros( ( 6, self.numberJoints - i - 1 ) ) ), axis = 1 )\n",
    "        \n",
    "        self.list_oJGi.append( M @ oJ )\n",
    "        self.list_oJ_VGi.append( self.list_oJGi[-1][0:3, :] )\n",
    "        self.list_oJ_wGi.append( self.list_oJGi[-1][3:6, :] )\n",
    "        \n",
    "    return self.list_oJGi, self.list_oJ_VGi, self.list_oJ_wGi\n",
    "\n",
    "RobotModel.ComputeJacGi = ComputeJacGi"
   ]
  },
  {
   "cell_type": "markdown",
   "metadata": {},
   "source": [
    "Evaluate the Jacobian matrices ${}^0J_{v_{G_6}} \\left(q\\right)$ and ${}^0J_{\\omega_6}\\left(q\\right)$ for $q = \\left[\\pi/4, -\\pi/8, -\\pi/3, 0, -\\pi/2, -\\pi/7  \\right]^t$.\n"
   ]
  },
  {
   "cell_type": "code",
   "execution_count": 28,
   "metadata": {},
   "outputs": [
    {
     "name": "stdout",
     "output_type": "stream",
     "text": [
      "[[-0.476  0.33   0.14  -0.     0.     0.   ]\n",
      " [ 0.476  0.33   0.14   0.     0.    -0.   ]\n",
      " [ 0.     0.673  0.026 -0.     0.     0.   ]\n",
      " [ 0.     0.707  0.707  0.092  0.707 -0.701]\n",
      " [ 0.    -0.707 -0.707  0.092 -0.707 -0.701]\n",
      " [ 1.     0.     0.    -0.991  0.    -0.131]]\n",
      "[[-0.476  0.33   0.14  -0.     0.     0.   ]\n",
      " [ 0.476  0.33   0.14   0.     0.    -0.   ]\n",
      " [ 0.     0.673  0.026 -0.     0.     0.   ]]\n",
      "[[ 0.     0.707  0.707  0.092  0.707 -0.701]\n",
      " [ 0.    -0.707 -0.707  0.092 -0.707 -0.701]\n",
      " [ 1.     0.     0.    -0.991  0.    -0.131]]\n"
     ]
    }
   ],
   "source": [
    "q = np.pi * np.array( [1/4, -1/8,-1/3, 0, -1/2, -1/7] )\n",
    "\n",
    "RobotTutorials.ComputeJacGi( q )\n",
    "print( approx( RobotTutorials.list_oJGi[-1] ) )\n",
    "print( approx( RobotTutorials.list_oJ_VGi[-1] ) )\n",
    "print( approx( RobotTutorials.list_oJ_wGi[-1] ) )\n"
   ]
  },
  {
   "cell_type": "markdown",
   "metadata": {},
   "source": [
    "__Q12.__ Write a function $ComputeMatInert\\left(\\text{self}, q\\right)$ returning the inertia matrix $A\\left(q\\right) \\in \\mathbb{R}^{6 \\times 6}$ of the robot.\n",
    "\n",
    "To this end, take into account the inertia tensors $I_i$ expressed in their frames $\\mathcal{R}_{i}$ of origin $O_i$ (you will need to express the inertia tensors in the frame $\\mathcal{R}_{i}$ of origin $G_i$ using the *Huygens* theorem) and the mass $m_i$ of each body $\\mathcal{C}_i$.\n",
    "Moreover, the actuator inertia contributions $J_{m_i}$ ($i=1,\\ldots,6$) taken after the joint level will be added the diagonal of $A\\left(q\\right)$ (reduction ratios $r_{red_i}$ and inertia $J_{m_i}$ are provided in the table above."
   ]
  },
  {
   "cell_type": "markdown",
   "metadata": {},
   "source": [
    "Please start adding the following mass, inertia and reduction ratio items to the *Dicitionnary* as follows."
   ]
  },
  {
   "cell_type": "code",
   "execution_count": 29,
   "metadata": {},
   "outputs": [
    {
     "name": "stdout",
     "output_type": "stream",
     "text": [
      "Attribute (int): self.numberJoints =  6\n",
      "Attribute (list): self.jointsType =  ['R', 'R', 'R', 'R', 'R', 'R']\n",
      "Attribute (list - 0 if self.jointsType[i] == 'R' / 1 if self.jointsType[i] == 'P'): self.sigma =  [0, 0, 0, 0, 0, 0]\n",
      "Attribute (list - float): self.tableDHM =  [[1.0, 0.0, 0.0, 0.0, 0.5], [2.0, 1.5707963267948966, 0.0, 0.0, 0.0], [3.0, 0.0, 0.7, 1.5707963267948966, 0.0], [4.0, 1.5707963267948966, 0.0, 0.0, 0.2], [5.0, -1.5707963267948966, 0.0, 0.0, 0.0], [6.0, 1.5707963267948966, 0.0, 0.0, 0.0]]\n",
      "Attribute (list - float): self.toolDHM =  [0, 0, 0, 0.1]\n",
      "Attribute (list - array of float): self.coordCentersMass =  [array([ 0.  ,  0.  , -0.25]), array([0.35, 0.  , 0.  ]), array([ 0. , -0.1,  0. ]), array([0, 0, 0]), array([0, 0, 0]), array([0, 0, 0])]\n",
      "Attribute (list - array of float): self.inertiaLinks =  [array([[0.8 , 0.  , 0.05],\n",
      "       [0.  , 0.8 , 0.  ],\n",
      "       [0.05, 0.  , 0.1 ]]), array([[0.1, 0. , 0.1],\n",
      "       [0. , 1.5, 0. ],\n",
      "       [0.1, 0. , 1.5]]), array([[0.05, 0.  , 0.  ],\n",
      "       [0.  , 0.01, 0.  ],\n",
      "       [0.  , 0.  , 0.05]]), array([[0.5 , 0.  , 0.  ],\n",
      "       [0.  , 0.5 , 0.  ],\n",
      "       [0.  , 0.  , 0.05]]), array([[0.01, 0.  , 0.  ],\n",
      "       [0.  , 0.01, 0.  ],\n",
      "       [0.  , 0.  , 0.01]]), array([[0.01, 0.  , 0.  ],\n",
      "       [0.  , 0.01, 0.  ],\n",
      "       [0.  , 0.  , 0.01]])]\n",
      "Attribute (list - float): self.mass =  [15.0, 10.0, 1.0, 7.0, 1.0, 0.5]\n",
      "Attribute (list - float): self.motorInertia =  [1e-05, 1e-05, 1e-05, 1e-05, 1e-05, 1e-05]\n",
      "Attribute (list - float): self.reductionRatio =  [100.0, 100.0, 100.0, 70.0, 70.0, 70.0]\n"
     ]
    }
   ],
   "source": [
    "# Adding the inertia matrices of all links as a list of matrices\n",
    "I1 = np.array( [[0.8,  0., 0.05], [0., 0.8,  0.], [0.05, 0., 0.1 ]] )\n",
    "I2 = np.array( [[0.1,  0., 0.1 ], [0., 1.5,  0.], [0.1,  0., 1.5 ]] )\n",
    "I3 = np.array( [[0.05, 0., 0.  ], [0., 0.01, 0.], [0.,   0., 0.05]] )\n",
    "I4 = np.array( [[0.5,  0., 0.  ], [0., 0.5,  0.], [0.,   0., 0.05]] )\n",
    "I5 = np.array( [[0.01, 0., 0.  ], [0., 0.01, 0.], [0.,   0., 0.01]] )\n",
    "I6 = np.array( [[0.01, 0., 0.  ], [0., 0.01, 0.], [0.,   0., 0.01]] )\n",
    "robotParameters['InertiaLinks'] = [I1, I2, I3, I4, I5, I6]\n",
    "# Adding the mass property of all links as a list of scalar\n",
    "m1 = 15. ; m2 = 10. ; m3 = 1. ; m4 = 7. ; m5 = 1. ; m6 = 0.5\n",
    "robotParameters['Mass'] = [m1, m2, m3, m4, m5, m6]\n",
    "# Adding the moment of inertia of the actuator rotors\n",
    "Jm1 = Jm2 = Jm3 = Jm4 = Jm5 = Jm6 = 1e-05\n",
    "robotParameters['MotorInertia'] = [Jm1, Jm2, Jm3, Jm4, Jm5, Jm6]\n",
    "# Adding the reduction ratio \n",
    "r_red1 = r_red2 = r_red3 = 100. ; r_red4 = r_red5 = r_red6 = 70.  \n",
    "robotParameters['ReductionRatio'] = [r_red1, r_red2, r_red3, r_red4, r_red5, r_red6]\n",
    "RobotTutorials = RobotModel( **robotParameters )\n"
   ]
  },
  {
   "cell_type": "code",
   "execution_count": 30,
   "metadata": {},
   "outputs": [],
   "source": [
    " def ComputeMatInert( self, q_cur ):\n",
    "        \"\"\" \n",
    "        Computation of the inertia matrix of a robot evaluated at a joint configuration \"q_cur\"\n",
    "                \n",
    "        Inputs: \n",
    "           - List \"self.inertiaLinks\" of the inertia matrix of each link\n",
    "           - List \"self.mass\" of the mass of each link\n",
    "           - List \"self.motorInertia\" of the rotor inertia of each actuator\n",
    "           - List \"self.reductionRatio\" of the reduction ratios of each motor-to-joint transmission\n",
    "           - List \"self.coordCentersMass\" of the coordinates of the centers of mass of all the bodies\n",
    "           - Number of joints: \"self.numberJoints\"\n",
    "           - Current configuration \"q_cur\"\n",
    "           - List \"self.list_oJ_VGi\" of all the submatrices of Jacobian matrices 0_JGi in R_0 related to the translational velocities as a np.array\n",
    "           - List \"self.list_oJ_wGi\" of all the submatrices of Jacobian matrices 0_JGi in R_0 related to the angular velocities as a np.array\n",
    "           - List of the successive homogeneous transform matrices \"self.list_g_0i\"\n",
    "         \n",
    "        Output: \n",
    "           - Matrix \"self.inertia\" of the robot evaluated at the joint configuration \"q_cur\"\n",
    "           \n",
    "        \"\"\"\n",
    "        \n",
    "        self.ComputeJacGi( q_cur )\n",
    "        \n",
    "        A = np.zeros( ( self.numberJoints, self.numberJoints ) )\n",
    "        for i in range( self.numberJoints ):\n",
    "            A = A + self.mass[i] * ( self.list_oJ_wGi[i].T @ self.list_oJ_wGi[i] )\n",
    "            A = A + self.list_oJ_wGi[i].T @ self.inertiaLinks[i] @ self.list_oJ_wGi[i]\n",
    "            \n",
    "            # we must take the contributions of the body-side actuators inertia into account\n",
    "            A[i, i] = A[i, i] + self.reductionRatio[i]**2 * self.motorInertia[i]\n",
    "        \n",
    "        self.inertia = A\n",
    "        return self.inertia\n",
    "\n",
    "RobotModel.ComputeMatInert = ComputeMatInert\n"
   ]
  },
  {
   "cell_type": "markdown",
   "metadata": {},
   "source": [
    "Evaluate the inertia matrix $A\\left(q\\right)$ for $q = \\left[\\pi/4, -\\pi/8, -\\pi/3, 0, -\\pi/2, -\\pi/7  \\right]^t$."
   ]
  },
  {
   "cell_type": "code",
   "execution_count": 31,
   "metadata": {},
   "outputs": [
    {
     "name": "stdout",
     "output_type": "stream",
     "text": [
      "[[36.32   0.071  0.    -8.497  0.    -0.067]\n",
      " [ 0.071 20.95  10.05   0.     1.52  -0.   ]\n",
      " [ 0.    10.05  10.15   0.     1.52  -0.   ]\n",
      " [-8.497  0.     0.     8.627  0.     0.   ]\n",
      " [ 0.     1.52   1.52   0.     1.569 -0.   ]\n",
      " [-0.067 -0.    -0.     0.    -0.     0.559]]\n"
     ]
    }
   ],
   "source": [
    "q = np.pi * np.array( [1/4, -1/8,-1/3, 0, -1/2, -1/7] )\n",
    "RobotTutorials.ComputeMatInert( q )\n",
    "print( approx( RobotTutorials.inertia ) )\n"
   ]
  },
  {
   "cell_type": "markdown",
   "metadata": {},
   "source": [
    "__Q13.__ Using the computation of the eigenvalues of $A\\left(q\\right)$, write a function $ComputeBoundsInertia(\\text{self}, q_{min}, q_{max})$ that returns two scalar numbers $0<\\mu_1<\\mu_2$ for the lower and the upper bounds of the inertia matrix, i.e.\n",
    "\\begin{align*}\n",
    "\t\t\t\\mu_1 \\mathbb{I} \\preceq A\\left(q\\right) \\preceq \\mu_2 \\mathbb{I}\n",
    "\\end{align*}\n",
    "for joint angles comprised between limits $q_{min}$ et $q_{max}$ defined in question __Q9__."
   ]
  },
  {
   "cell_type": "code",
   "execution_count": 32,
   "metadata": {},
   "outputs": [],
   "source": [
    "def ComputeBoundsInertia( self, q_min, q_max ):\n",
    "        \"\"\" \n",
    "        Computation of the upper and lower bounds of the inertia matrix of a robot using a random search\n",
    "                \n",
    "        Inputs: \n",
    "           - Vector of lower bound of joint variable \"q_min\"\n",
    "           - Vector of upper bound of joint variable \"q_max\"\n",
    "         \n",
    "        Outputs: \n",
    "           - Scalar \"self.mu_min\" estimating the lower bound\n",
    "           - Scalar \"self.mu_max\" estimating the upper bound\n",
    "           \n",
    "        \"\"\"\n",
    "        \n",
    "        MaxIter = 1000\n",
    "        \n",
    "        q_test = q_min + np.random.rand() * ( q_max - q_min );\n",
    "        self.ComputeMatInert( q_test )\n",
    "        \n",
    "        eigvals, _ = np.linalg.eig( self.inertia )\n",
    "        \n",
    "        self.mu_min, self.mu_max = min( eigvals ), max( eigvals )\n",
    "        \n",
    "        for i in range( 1000 ):\n",
    "            q_test = q_min + np.random.rand() * ( q_max - q_min );\n",
    "            self.ComputeMatInert( q_test )\n",
    "            \n",
    "            eigvals, _ = np.linalg.eig( self.inertia )\n",
    "            \n",
    "            if min( eigvals ) < self.mu_min:\n",
    "                self.mu_min = min( eigvals )\n",
    "            \n",
    "            if max( eigvals ) > self.mu_max:\n",
    "                self.mu_max = max( eigvals )\n",
    "                \n",
    "        return self.mu_min, self.mu_max\n",
    "\n",
    "RobotModel.ComputeBoundsInertia = ComputeBoundsInertia\n"
   ]
  },
  {
   "cell_type": "markdown",
   "metadata": {},
   "source": [
    "What are the two scalar numbers $\\mu_1$ and $\\mu_2$ found using your function?"
   ]
  },
  {
   "cell_type": "code",
   "execution_count": 33,
   "metadata": {},
   "outputs": [
    {
     "name": "stdout",
     "output_type": "stream",
     "text": [
      "0.5268238975600954\n",
      "38.76796803794234\n"
     ]
    }
   ],
   "source": [
    "RobotTutorials.ComputeBoundsInertia( q_min, q_max )\n",
    "print( RobotTutorials.mu_min )\n",
    "print( RobotTutorials.mu_max )\n"
   ]
  },
  {
   "cell_type": "markdown",
   "metadata": {},
   "source": [
    "__Q14.__ Write a function $ComputeGravTorque\\left(\\text{self}, q\\right)$ returning the vector of joint torques due to the gravity $G\\left(q \\right)\\in \\mathbb{R}^{6}$. \n",
    "The analytical expression of the gradient of the potential energy $E_p\\left(q\\right) = g^t \\left(\\sum_{i=1}^6 m_i {}{}^0p_{G_i}\\left(q\\right)\\right)$ can be used, that is:\n",
    "\\begin{align*}\n",
    "\t\t\tG\\left(q \\right) = -\\left( {}^0J_{v_{G_1}}^t m_1 g  + \\ldots + {}^0J_{v_{G_6}}^t  m_6 g \\right) \n",
    "\\end{align*}\n",
    "where $g=\\begin{bmatrix} 0 & 0 & -9.81 \\end{bmatrix}^t$."
   ]
  },
  {
   "cell_type": "code",
   "execution_count": 34,
   "metadata": {},
   "outputs": [],
   "source": [
    "def ComputeGravTorque( self, q_cur ):\n",
    "        \"\"\" \n",
    "        Computation of the vector of joint torques due to the gravity\n",
    "                \n",
    "        Inputs: \n",
    "           - Current joint positions \"q_cur\"\n",
    "           - Number of joints \"self.numberJoints\"\n",
    "           - Mass of each link: \"self.mass\"\n",
    "           - List \"self.list_oJ_VGi\" of all the submatrices of Jacobian matrices 0_JGi in R_0 related to the translational velocities\n",
    "         \n",
    "        Output: \n",
    "           - Array of joint torques \"self.gravityTorques\"\n",
    "           \n",
    "        \"\"\"\n",
    "        \n",
    "        g = np.array( [0.0, 0.0, -9.81] )\n",
    "        \n",
    "        self.ComputeJacGi( q_cur )\n",
    "        \n",
    "        self.gravityTorques = np.zeros( self.numberJoints )\n",
    "        for i in range( self.numberJoints ):\n",
    "            self.gravityTorques = self.gravityTorques + self.mass[i] * self.list_oJ_VGi[i].T @ g\n",
    "\n",
    "        self.gravityTorques = -self.gravityTorques\n",
    "        \n",
    "        return self.gravityTorques\n",
    "        \n",
    "RobotModel.ComputeGravTorque = ComputeGravTorque\n"
   ]
  },
  {
   "cell_type": "markdown",
   "metadata": {},
   "source": [
    "Evaluate the gravity joint torque $G\\left(q\\right)$ for $q = \\left[\\pi/4, -\\pi/8, -\\pi/3, 0, -\\pi/2, -\\pi/7  \\right]^t$."
   ]
  },
  {
   "cell_type": "code",
   "execution_count": 35,
   "metadata": {},
   "outputs": [
    {
     "name": "stdout",
     "output_type": "stream",
     "text": [
      "[-0.    94.297  2.305 -0.     0.     0.   ]\n"
     ]
    }
   ],
   "source": [
    "q = np.pi * np.array( [1/4, -1/8,-1/3, 0, -1/2, -1/7] )\n",
    "\n",
    "RobotTutorials.ComputeGravTorque( q )\n",
    "print( approx( RobotTutorials.gravityTorques ) )\n"
   ]
  },
  {
   "cell_type": "markdown",
   "metadata": {},
   "source": [
    "__Q16.__ Propose an upper bound $g_b$ of $\\left\\| G\\left(q\\right) \\right\\|_1$, such that:\n",
    "\\begin{align*}\n",
    "    \\forall q \\in \\left[q_{min},q_{max}\\right], \\hspace{0.2cm} \\left\\| G\\left(q\\right) \\right\\|_1 \\leq g_b \n",
    "\\end{align*}\n",
    "where $\\left\\| \\bullet \\right\\|_1$ denotes the norm $1$ of a vector.\n",
    "\n",
    "To do so, write a function $ComputeBoundsGravityTorques(\\text{self}, q_{min}, q_{max})$ that returns the bound $g_b$."
   ]
  },
  {
   "cell_type": "code",
   "execution_count": 36,
   "metadata": {},
   "outputs": [],
   "source": [
    "def ComputeBoundsGravityTorques( self, q_min, q_max ):\n",
    "        \"\"\" \n",
    "        Computation of the upper and lower bounds of the gravity torque of a robot using a random search\n",
    "                \n",
    "        Inputs: \n",
    "           - Vector of lower bound of joint variable \"q_min\"\n",
    "           - Vector of upper bound of joint variable \"q_max\"\n",
    "         \n",
    "        Output: \n",
    "           - Scalar \"self.gb\" estimating the upper bound of the gravity torque vector\n",
    "           \n",
    "        \"\"\"\n",
    "        \n",
    "        MaxIter = 1000\n",
    "        \n",
    "        q_test = q_min + np.random.rand() * ( q_max - q_min );\n",
    "        self.ComputeGravTorque( q_test )\n",
    "        \n",
    "        self.gb = np.linalg.norm( self.gravityTorques, 1 )\n",
    "        \n",
    "        for i in range( 1000 ):\n",
    "            q_test = q_min + np.random.rand() * ( q_max - q_min );\n",
    "            self.ComputeGravTorque( q_test )\n",
    "            \n",
    "            norm = np.linalg.norm( self.gravityTorques, 1 )\n",
    "            \n",
    "            if norm > self.gb:\n",
    "                self.gb = norm\n",
    "                \n",
    "        return self.gb\n",
    "        \n",
    "RobotModel.ComputeBoundsGravityTorques = ComputeBoundsGravityTorques\n"
   ]
  },
  {
   "cell_type": "markdown",
   "metadata": {},
   "source": [
    "What is the scalar number $g_b$ found using your function?"
   ]
  },
  {
   "cell_type": "code",
   "execution_count": 37,
   "metadata": {},
   "outputs": [
    {
     "name": "stdout",
     "output_type": "stream",
     "text": [
      "117.32352793565867\n"
     ]
    }
   ],
   "source": [
    "RobotTutorials.ComputeBoundsGravityTorques( q_min, q_max )\n",
    "print( RobotTutorials.gb )\n"
   ]
  }
 ],
 "metadata": {
  "celltoolbar": "Format de la Cellule Texte Brut",
  "kernelspec": {
   "display_name": "Python 3 (ipykernel)",
   "language": "python",
   "name": "python3"
  },
  "language_info": {
   "codemirror_mode": {
    "name": "ipython",
    "version": 3
   },
   "file_extension": ".py",
   "mimetype": "text/x-python",
   "name": "python",
   "nbconvert_exporter": "python",
   "pygments_lexer": "ipython3",
   "version": "3.9.12"
  }
 },
 "nbformat": 4,
 "nbformat_minor": 2
}
