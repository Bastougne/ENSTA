{
 "cells": [
  {
   "cell_type": "code",
   "execution_count": 1,
   "metadata": {},
   "outputs": [],
   "source": [
    "import numpy as np\n",
    "import matplotlib.pyplot as plt"
   ]
  },
  {
   "cell_type": "markdown",
   "metadata": {},
   "source": [
    "# INF 554 Lab 2: Supervised Classification\n",
    "\n",
    "## Logistic Regression and Gradient Descent\n",
    "\n",
    "\n",
    "In linear regression, we got a real-valued response\n",
    "\t\n",
    "$$y = \\theta_0 + \\theta_1 x_1 + \\cdots + \\theta_d x_d$$\n",
    "    \n",
    "i.e., a linear combination of inputs, where $y \\in \\mathbf{R}$.\n",
    "\n",
    "<div class=\"alert alert-block alert-info\">\n",
    "Note: in this lab we are going to use $\\mathbf{\\theta}$ to denotate the parameters, instead of $\\mathbf{\\beta}$ as we introduced in the first lab</div>\n",
    "\n",
    "In classification, we want an *indication* of how likely an instance is to belong to a particular class; a probability $\\in [0,1]$.  \n",
    "\n",
    "Given a real valued $z$, we can squish it to range $\\sigma(z) \\in [0,1]$ by feeding it through the **logistic function** aka **sigmoid function**:\n",
    "\t\t\n",
    "\\begin{equation}\n",
    "\\sigma(z) = \\frac{1}{1+\\exp(-z)} \\hspace{1.5cm}(1)\n",
    "\\end{equation}\n",
    "\n",
    "Which looks like this: ![Sigmoid](https://upload.wikimedia.org/wikipedia/commons/thumb/8/88/Logistic-curve.svg/320px-Logistic-curve.svg.png)\n",
    "\n",
    "Therefore, we can treat this as a probability, i.e.,\n",
    "\n",
    "\\begin{align*}\n",
    "P(y=1|\\mathbf{x}) &= \\sigma(\\mathbf{\\theta}^\\top\\mathbf{x}) \\\\\n",
    "P(y=0|\\mathbf{x}) &= 1 - \\sigma(\\mathbf{\\theta}^\\top\\mathbf{x}) \n",
    "\\end{align*}\n",
    "\n",
    "where we omit the bias term and suppose that both $\\mathbf{\\theta}$ and $\\mathbf{x}$ are column vectors.\n",
    "\n",
    "> **Task 1**: implement the sigmoid function (1). Note that the sigmoid function in NumPy is prone to overflow errors therefore to avoid them you will have to use the <a href=\"https://numpy.org/doc/stable/reference/generated/numpy.clip.html\">clip</a> function to restrain the output of the function within the interval $[0+\\epsilon ,1-\\epsilon]$. A good enough choice for $\\epsilon$ is $0.001$.\n"
   ]
  },
  {
   "cell_type": "code",
   "execution_count": 2,
   "metadata": {},
   "outputs": [],
   "source": [
    "def sigmoid(z):\n",
    "    # insert here the code for Task 1\n",
    "    s = 1. / (1. + np.exp(-z))\n",
    "    s = np.clip(s, 0.001, 0.999)\n",
    "    return s"
   ]
  },
  {
   "cell_type": "markdown",
   "metadata": {},
   "source": [
    "In order to chose values for the parameters of logistic regression, we use **maximum likelihood estimation** (MLE). As such we are going to have two steps:\n",
    "\n",
    "1. write the likelihood function;\n",
    "2. find the values of $\\theta$ that maximize the log-likelihood function.\n",
    "\n",
    "The labels that we are predicting are binary, this means that we can interpret each label as a Bernoulli random variable: $Y \\sim Ber(p)$ where $p = \\sigma(\\mathbf{\\theta}^\\top\\mathbf{x})$.\n",
    "\n",
    "Therefore, we can write the probability of a data point as:\n",
    "$$\n",
    "P\\left(Y=y|X=\\mathbf{x}\\right) = \\sigma(\\mathbf{\\theta}^\\top\\mathbf{x})^y \\cdot \\left[1-\\sigma(\\mathbf{\\theta}^\\top\\mathbf{x})\\right]^{(1-y)}\n",
    "$$\n",
    "\n",
    "With the probability mass function we can now write the **likelihood** of the whole dataset:\n",
    "\n",
    "\\begin{equation}\n",
    "L(\\theta) = \\prod_{i=1}^n P(Y = y_i|\\mathbf{X} = \\mathbf{x}_i) = \\prod_{i=1}^n \\sigma(\\mathbf{\\theta}^\\top\\mathbf{x}_i)^{y_i} \\cdot \\left[1-\\sigma(\\mathbf{\\theta}^\\top\\mathbf{x}_i)\\right]^{(1-y_i)} \\hspace{1.5cm}(2)\n",
    "\\end{equation}\n",
    "\n",
    "We can take the log of this function to transform the product into a sum and by doing that, we obtain the **log-likelihood**:\n",
    "\n",
    "\\begin{equation}\n",
    "LL(\\theta) = \\sum_{i=1}^n y_i\\log{\\sigma(\\mathbf{\\theta}^\\top\\mathbf{x}_i)} + (1-y_i) \\log{\\left[1-\\sigma(\\mathbf{\\theta}^\\top\\mathbf{x}_i)\\right]} \\hspace{1.5cm}(3)\n",
    "\\end{equation}\n",
    "\n",
    "As you will remember from first lab, our objective is to minimize the error that we do by fitting our model to the data. However, log-likelihood increases when the model is fitting better to the data. That's the reason why in logistic regression we take the *negative* log-likelihood (also known as **cost** function $E(\\theta)$).\n",
    "\n",
    "> **Task 2**: implement the negative log likelihood, or cost function"
   ]
  },
  {
   "cell_type": "code",
   "execution_count": 3,
   "metadata": {},
   "outputs": [],
   "source": [
    "def cost(theta, X, y):\n",
    "    # Computes the cost using theta as the parameters for logistic regression.\n",
    "    # insert here your implementation\n",
    "    E = 0\n",
    "    \n",
    "    N = X.shape[0]\n",
    "    \n",
    "    for i in range(N):\n",
    "        z=np.dot(X[i,:], theta)\n",
    "        E = E + (-y[i] * np.log(sigmoid(z)) - (1-y[i]) * np.log(1-sigmoid(z)))\n",
    "    return E"
   ]
  },
  {
   "cell_type": "markdown",
   "metadata": {},
   "source": [
    "As in OLS of the previous lab we want to find values of the parameters which minimize our cost function. \n",
    "\n",
    ">**Ques 1**:Derive the gradient of the cost function with respect to the model's parameters $\\nabla_{\\mathbf{\\theta}} E(\\mathbf{\\theta})$.\n",
    "\n",
    "<div class=\"alert alert-block alert-info\">\n",
    "Some hints:\n",
    "    \n",
    "- you can use the expression of a Bernoulli distribution, $\\sigma_i^{y_i} (1-\\sigma_i)^{1-y_i}$ where $\\sigma_i \\equiv \\sigma(\\mathbf{\\theta}^\\top\\mathbf{x}_i)$. \n",
    "\n",
    "- A useful derivative: $\\sigma' = (1 - \\sigma)\\sigma$.</div>\n",
    "\n",
    "You'll notice that, unlike under OLS, it's not a closed form expression; you have $\\mathbf{\\theta}$ on the right hand side of the equation. Nevertheless, we can use numerical methods to find the optimal ${\\mathbf{\\theta}^*}$.\n",
    "\n",
    "\n"
   ]
  },
  {
   "cell_type": "markdown",
   "metadata": {},
   "source": [
    "> **Ans**:\n",
    "The *likelihood* is defined as:\n",
    "\n",
    "\\begin{equation}\n",
    "    \\mathit{L}(\\theta) = \\prod_{i=1}^{n}{\\sigma(\\mathbf{\\theta}^\\top\\mathbf{x}_i)^{y_i}(1-\\sigma(\\mathbf{\\theta}^\\top\\mathbf{x}_i))^{(1-y_i)}}\n",
    "    \\label{eq:likelihood}\n",
    "\\end{equation}\n",
    "\n",
    "\n",
    "We obtain the log-likelihood by simply applying the log function:\n",
    "\n",
    "\\begin{equation}\n",
    "LL(\\theta) = \\sum_{i=1}^n y_i\\log{\\sigma(\\mathbf{\\theta}^\\top\\mathbf{x}_i)} + (1-y_i) \\log{\\left[1-\\sigma(\\mathbf{\\theta}^\\top\\mathbf{x}_i)\\right]}\n",
    "\\end{equation}\n",
    "\n",
    "\n",
    "The cost function is obtained as $E(\\theta) = -LL(\\theta)$:\n",
    "\\begin{equation}\n",
    "E(\\theta) = -\\sum_{i=1}^n y_i\\log{\\sigma(\\mathbf{\\theta}^\\top\\mathbf{x}_i)} + (1-y_i) \\log{\\left[1-\\sigma(\\mathbf{\\theta}^\\top\\mathbf{x}_i)\\right]}\n",
    "\\label{eq:cost}\n",
    "\\end{equation}\n",
    "\n",
    "\n",
    "In order to calculate the gradient of this function, let's denotate $z_i=\\mathbf{\\theta}^\\top\\mathbf{x}_i$ and $p_i = \\sigma(\\mathbf{\\theta}^\\top\\mathbf{x}_i)$; then, thanks to the *chain rule*, we can calculate the partial derivatives as follows:\n",
    "$$\n",
    "\\frac{\\partial E(\\mathbf{\\theta_j})}{\\partial \\mathbf{\\theta_j}} = \\frac{\\partial E(\\mathbf{\\theta_j})}{\\partial p} \\cdot \\frac{\\partial p}{\\partial \\mathbf{\\theta_j}} = \\frac{\\partial E(\\mathbf{\\theta_j})}{\\partial p} \\cdot \\frac{\\partial p}{\\partial z} \\cdot \\frac{\\partial z}{\\partial \\mathbf{\\theta_j}}\n",
    "$$\n",
    "where $\\frac{\\partial p}{\\partial z} = \\sigma(z)(1-\\sigma(z))$ (derivative of sigmoid) and $\\frac{\\partial z}{\\partial \\mathbf{\\theta_j}}=x_j$ as only $x_j$ interacts with $\\theta_j$.\n",
    "\n",
    "We can now calculate the gradient of the cost function:\n",
    "\\begin{equation}\n",
    "\\begin{split}\n",
    "\\nabla_{\\mathbf{\\theta}}E(\\mathbf{\\theta}) & = - \\nabla_{\\mathbf{\\theta}}\\left[ \\sum_{i=1}^n y_i \\log p_i + (1-y_i)\\log(1-p_i)\\right] \\\\\n",
    " & = - \\sum_{i=1}^n \\left[ \\frac{y_i}{p_i} \\nabla_{\\mathbf{\\theta}} p_i + \\frac{(1-y_i)}{(1-p_i)} \\nabla_{\\mathbf{\\theta}}(1-p_i)\\right] \\\\\n",
    " & = - \\sum_{i=1}^n \\left[ y_i (1-p_i) \\nabla_{\\mathbf{\\theta}} z_i - (1-y_i)p_i \\nabla_{\\mathbf{\\theta}} z_i \\right] \\\\\n",
    " & = - \\sum_{i=1}^n \\left[ y_i(1-p_i)x_i - (1-y_i)p_i x_i\\right] \\\\\n",
    " & = - \\sum_{i=1}^n \\left[ y_i(1-p_i) - (1-y_i)p_i \\right] x_i \\\\\n",
    " & = - \\sum_{i=1}^n \\left[ y_i-p_i y_i - p_i + p_i y_i \\right] x_i \\\\\n",
    " & = - \\sum_{i=1}^n \\left[ y_i - p_i \\right] x_i \\\\\n",
    " & = - \\sum_{i=1}^n \\left[ y_i - \\sigma(\\mathbf{\\theta}^\\top\\mathbf{x}_i) \\right] x_i \\\\\n",
    "\\end{split}\n",
    "\\end{equation}\n",
    "\n",
    "<div class=\"alert alert-block alert-info\">\n",
    "Note about the calculation of the derivative of sigmoid:\n",
    "\n",
    "Recall that the derivative of the exponential function is the exponential itself:\n",
    "\\begin{equation}\n",
    "\\frac{d}{dx}e^x = e^x\n",
    "\\end{equation}\n",
    "\n",
    "And the chain rule of derivatives:\n",
    "\\begin{equation}\n",
    "\\frac{d}{dx} \\left[ f(g(x)) \\right] = f'\\left[g(x) \\right] * g'(x)\n",
    "\\end{equation}\n",
    "\n",
    "Then we can calculate the derivative of the sigmoid as:\n",
    "    \n",
    "\\begin{equation}\n",
    "\\begin{aligned}\n",
    "\\frac{d}{dx} \\sigma(x) &= \\frac{d}{dx} \\left[  \\frac{1}{1+e^{-x}} \\right] =\\frac{d}{dx}(1+e^{-x})^{-1} \\\\\n",
    "&=-1*(1+e^{-x})^{-2}(-e^{-x}) \\\\\n",
    "&=\\frac{-e^{-x}}{-(1+e^{-x})^{2}} \\\\\n",
    "&=\\frac{e^{-x}}{(1+e^{-x})^{2}} \\\\\n",
    "&=\\frac{1}{1+e^{-x}}  \\frac{e^{-x}}{1+e^{-x}} \\\\\n",
    "&=\\frac{1}{1+e^{-x}}  \\frac{e^{-x} + (1 - 1)}{1+e^{-x}} \\\\\n",
    "&=\\frac{1}{1+e^{-x}}  \\frac{(1 + e^{-x}) - 1}{1+e^{-x}} \\\\\n",
    "&=\\frac{1}{1+e^{-x}}  \\left[ \\frac{(1 + e^{-x})}{1+e^{-x}} - \\frac{1}{1+e^{-x}} \\right] \\\\\n",
    "&=\\frac{1}{1+e^{-x}}  \\left[ 1 - \\frac{1}{1+e^{-x}} \\right] \\\\\n",
    "&=\\sigma(x) (1-\\sigma(x)) \\\\\n",
    "\\end{aligned}\n",
    "\\end{equation}\n",
    "    \n",
    "Final note: there is also a way to obtain this derivative using the quotient rule"
   ]
  },
  {
   "cell_type": "markdown",
   "metadata": {},
   "source": [
    ">**Task 3**: Implement the gradient of the cost function (which you just derived above)."
   ]
  },
  {
   "cell_type": "code",
   "execution_count": 4,
   "metadata": {},
   "outputs": [],
   "source": [
    "def compute_grad(theta, X, y):\n",
    "    # Computes the gradient of the cost with respect to the parameters.\n",
    "    \n",
    "    dE = - X.T @ (y - sigmoid(X @ theta))\n",
    "    \n",
    "    return dE"
   ]
  },
  {
   "cell_type": "markdown",
   "metadata": {},
   "source": [
    "What we have now is a vector $\\mathbf{g} = \\nabla_{\\mathbf{\\theta}} E(\\mathbf{\\theta})$; the **gradient** of the cost function. Note that the dimensionality is the same as the input. We can move in the direction of the gradient and thus descend the function. This is the idea of **Gradient Descent**: we iteratively follow the gradient down the error surface. We repeatedly carry out \n",
    "\\begin{equation}\n",
    "\\mathbf{\\theta}_{t+1} = \\mathbf{\\theta}_{t} - \\alpha \\nabla_{\\mathbf{\\theta}} E(\\mathbf{\\theta}_t) \\hspace{1.5cm}(4)\n",
    "\\end{equation}\n",
    "\n",
    "where $\\alpha$ is the **learning rate**; for $t=1,2,\\ldots,T$, such that $\\mathbf{\\theta}^* \\gets \\mathbf{\\theta}_T$.\n"
   ]
  },
  {
   "cell_type": "markdown",
   "metadata": {},
   "source": [
    "Let's load the data and inspect the dataset"
   ]
  },
  {
   "cell_type": "code",
   "execution_count": 5,
   "metadata": {
    "scrolled": true
   },
   "outputs": [
    {
     "data": {
      "image/png": "[encoded data removed]",
      "text/plain": [
       "<Figure size 432x288 with 1 Axes>"
      ]
     },
     "metadata": {
      "needs_background": "light"
     },
     "output_type": "display_data"
    }
   ],
   "source": [
    "# Load the dataset\n",
    "data = np.loadtxt('./data/data.csv', delimiter=',')\n",
    " \n",
    "#Add intercept term \n",
    "data_1 = np.ones((data.shape[0], 4))\n",
    "data_1[:, 1:] = data\n",
    "\n",
    "# Standardize the data\n",
    "# (It will still work without standardization, but may behave erratically)\n",
    "data_1[:,1:3] = (data_1[:,1:3] - np.mean(data_1[:,1:3],axis=0)) / np.std(data_1[:,1:3],axis=0)\n",
    "\n",
    "X = data_1[:, 0:3]\n",
    "y = data_1[:, -1]\n",
    "\n",
    "# Plot data \n",
    "pos = np.where(y == 1) # instances of class 1\n",
    "neg = np.where(y == 0) # instances of class 0\n",
    "plt.scatter(X[pos, 1], X[pos, 2], marker='o', c='b')\n",
    "plt.scatter(X[neg, 1], X[neg, 2], marker='x', c='r')\n",
    "plt.xlabel('Exam 1 score')\n",
    "plt.ylabel('Exam 2 score')\n",
    "plt.legend(['Admitted', 'Not Admitted'])\n",
    "plt.show()\n",
    "\n",
    "\n",
    "N = X.shape[0]\n",
    "\n",
    "# Initialize fitting parameters \n",
    "theta = np.random.randn(3,1) * 0.05"
   ]
  },
  {
   "cell_type": "markdown",
   "metadata": {},
   "source": [
    "Now all it's remaining to do is to find the optimal parameters using gradient descent\n",
    "\n",
    "> **Task 4**: Use the functions implemented so far to implement gradient descent, Eq.(4), for a fixed number of steps (say, $T=10\\,000$) and learning rate to (say, $\\alpha=0.005$)."
   ]
  },
  {
   "cell_type": "code",
   "execution_count": 6,
   "metadata": {},
   "outputs": [],
   "source": [
    "alpha = 0.005\n",
    "T = 10000\n",
    "\n",
    "for i in range(T): \n",
    "    # insert here your code\n",
    "    theta = theta - compute_grad(theta, X, y.reshape(-1,1)) * alpha"
   ]
  },
  {
   "cell_type": "markdown",
   "metadata": {},
   "source": [
    "> **Task 5**: Implement a function to provide predictions $\\hat{\\mathbf{y}} \\in \\{0,1\\}$ for any given $\\mathbf{x}$ and $\\hat{\\mathbf{\\theta}}$ (from the previous task) by assigning $\\hat{\\mathbf{y}}_i = 1$ whenever $\\sigma_i \\geq 0.5$. In other words, you turn logistic regression into a **classifier**. "
   ]
  },
  {
   "cell_type": "code",
   "execution_count": 7,
   "metadata": {},
   "outputs": [],
   "source": [
    "def predict(theta, X):\n",
    "    # Predict whether each label is 0 or 1 using learned logistic regression parameters w. The threshold is set at 0.5\n",
    "\n",
    "    #N = X.shape[0] # number of examples\n",
    "    #yp = np.zeros(N) # predicted classes of examples\n",
    "    \n",
    "    ws=sigmoid(np.dot(X, theta))\n",
    "    yp = np.where(ws >=0.5, 1, 0)\n",
    "\n",
    "    return yp    \n"
   ]
  },
  {
   "cell_type": "markdown",
   "metadata": {},
   "source": [
    "There is data provided in the *data/* folder. Suppose that each column represents an exam score during a course, with the class label indicated *admitted* or not into a Masters program at some university. We want a model to give the probability that a student will be admitted based on the two grades of two courses. Some plotting code is already provided. \n",
    " \n",
    "> **Task 6**: In the following we make a train-test split of the data provided, keeping the last 20 data points as test set away, and the first 80 as train. We use learning rate (alpha)=0.005 and max number of iterations (T)=1000. Evaluate the classifier (similarly to what was done in the first lab): plot the error $E(\\mathbf{\\theta}_t)$ both on the training and test set, for $t=1,\\ldots,T$. \n"
   ]
  },
  {
   "cell_type": "code",
   "execution_count": 8,
   "metadata": {},
   "outputs": [
    {
     "data": {
      "text/plain": [
       "Text(0, 0.5, '$Error$')"
      ]
     },
     "execution_count": 8,
     "metadata": {},
     "output_type": "execute_result"
    },
    {
     "data": {
      "image/png": "[encoded data removed]",
      "text/plain": [
       "<Figure size 432x288 with 1 Axes>"
      ]
     },
     "metadata": {
      "needs_background": "light"
     },
     "output_type": "display_data"
    }
   ],
   "source": [
    "n_test=20\n",
    "\n",
    "X_train = data_1[:-n_test, 0:3]\n",
    "y_train = data_1[:-n_test, -1]\n",
    "y_train = y_train.reshape(-1,1)\n",
    "\n",
    "X_test = data_1[-n_test:, 0:3]\n",
    "y_test = data_1[-n_test:, -1]\n",
    "y_test = y_test.reshape(-1,1)\n",
    "\n",
    "alpha = 0.005\n",
    "T = 1000\n",
    "\n",
    "#insert your code here\n",
    "train_err=[]\n",
    "test_err=[]\n",
    "\n",
    "theta = np.random.randn(3,1) * 0.05 #random theta initialization\n",
    "for i in range(T):\n",
    "    #GD:\n",
    "    theta = theta - compute_grad(theta, X_train, y_train) * alpha\n",
    "    train_err.append(np.mean(np.abs(predict(theta,X_train)-y_train)))\n",
    "    test_err.append(np.mean(np.abs(predict(theta,X_test)-y_test)))\n",
    "\n",
    "plt.figure()\n",
    "plt.plot(range(1,T+1), test_err, '-', label='test error')\n",
    "plt.plot(range(1,T+1), train_err, '-', label='train error')\n",
    "plt.legend(loc=\"upper right\")\n",
    "plt.xlabel('$Epoch$')\n",
    "plt.ylabel('$Error$')"
   ]
  },
  {
   "cell_type": "code",
   "execution_count": 9,
   "metadata": {},
   "outputs": [
    {
     "name": "stdout",
     "output_type": "stream",
     "text": [
      "[[1 1 1 0 1 1 0 1 1 0 1 1 0 1 1 1 1 1 0 1]]\n",
      "[[1. 1. 1. 1. 1. 1. 0. 1. 1. 0. 1. 1. 0. 1. 1. 1. 1. 1. 1. 1.]]\n",
      "Accuracy on training set: 0.8875\n",
      "Accuracy on test set: 0.9\n"
     ]
    }
   ],
   "source": [
    "#Let's take a look at the final accuracy\n",
    "print(predict(theta, X_test).T)\n",
    "print(y_test.T)\n",
    "\n",
    "accuracy_train = 1 - np.mean(np.abs(predict(theta,X_train)-y_train))\n",
    "accuracy_test = 1 - np.mean(np.abs(predict(theta,X_test)-y_test))\n",
    "\n",
    "print(\"Accuracy on training set:\", accuracy_train)\n",
    "print(\"Accuracy on test set:\", accuracy_test)\n"
   ]
  },
  {
   "cell_type": "code",
   "execution_count": 10,
   "metadata": {},
   "outputs": [
    {
     "data": {
      "image/png": "[encoded data removed]",
      "text/plain": [
       "<Figure size 432x288 with 1 Axes>"
      ]
     },
     "metadata": {
      "needs_background": "light"
     },
     "output_type": "display_data"
    }
   ],
   "source": [
    "# Let's plot the learned decision boundary\n",
    "plt.figure()\n",
    "plot_x = np.array([min(X[:, 1])-0.5, max(X[:, 2])+0.5])\n",
    "plot_y = (- 1.0 / theta[2,0]) * (theta[1,0] * plot_x + theta[0,0])\n",
    "plt.plot(plot_x, plot_y)\n",
    "plt.scatter(X[pos, 1], X[pos, 2], marker='o', c='b')\n",
    "plt.scatter(X[neg, 1], X[neg, 2], marker='x', c='r')\n",
    "plt.xlabel('Exam 1 score')\n",
    "plt.ylabel('Exam 2 score')\n",
    "plt.legend(['Decision Boundary', 'Admitted', 'Not Admitted'])\n",
    "plt.show()"
   ]
  },
  {
   "cell_type": "markdown",
   "metadata": {},
   "source": [
    "> **Ques 2**: Knowing that the cost function is convex, are you convinced that with a suitable learning rate, gradient descent will always converge to the minimum? What are some examples of poor learning rates?\n",
    "\n",
    "> **Ans**: Since the error function is convex, we can converge to a global minimum with a non-zero learning rate. However, note that a learning rate which is too large will overstep the minimum, since the gradient is not guaranteed to always pointing towards the minimum."
   ]
  },
  {
   "cell_type": "markdown",
   "metadata": {},
   "source": [
    "> **Task 7**: Following your considerations in the previous question -- can you find a better learning rate, such that you reduce error more efficiently (for smaller $T$?)."
   ]
  },
  {
   "cell_type": "markdown",
   "metadata": {},
   "source": [
    "> **Task 8**: Instead of the whole training set, select a random subset (i.e., minibatch) of 10 examples for each iteration. This is known as **stochastic gradient descent**."
   ]
  },
  {
   "cell_type": "code",
   "execution_count": 11,
   "metadata": {},
   "outputs": [
    {
     "data": {
      "text/plain": [
       "Text(0, 0.5, '$Error$')"
      ]
     },
     "execution_count": 11,
     "metadata": {},
     "output_type": "execute_result"
    },
    {
     "data": {
      "image/png": "[encoded data removed]",
      "text/plain": [
       "<Figure size 432x288 with 1 Axes>"
      ]
     },
     "metadata": {
      "needs_background": "light"
     },
     "output_type": "display_data"
    }
   ],
   "source": [
    "#see Task 6 implementation\n",
    "alpha = 0.005\n",
    "T = 1000\n",
    "\n",
    "train_err=[]\n",
    "test_err=[]\n",
    "theta = np.random.randn(3,1) * 0.05 #random theta initialization\n",
    "for i in range(T):\n",
    "    #stochastic GD (task 8):\n",
    "    n = np.random.choice(N-20,10) #picking 10 random elements (minibatch) from train\n",
    "    theta = theta - compute_grad(theta, X_train[n], y_train[n]) * alpha\n",
    "    train_err.append(np.mean(np.abs(predict(theta,X_train)-y_train)))\n",
    "    test_err.append(np.mean(np.abs(predict(theta,X_test)-y_test)))\n",
    "\n",
    "plt.figure()\n",
    "plt.plot(range(1,T+1), test_err, '-', label='test error')\n",
    "plt.plot(range(1,T+1), train_err, '-', label='train error')\n",
    "plt.legend(loc=\"upper right\")\n",
    "plt.xlabel('$Epoch$')\n",
    "plt.ylabel('$Error$')"
   ]
  },
  {
   "cell_type": "markdown",
   "metadata": {},
   "source": [
    "> **Ques 3**: What are the advantages of stochastic gradient descent over classical gradient descent? (Especially with a non-convex loss function).\n",
    "\n",
    "**Ans**: SGD is less costly than GD, with classical GD you have to compute the gradient over all training data if you want to have a consistent estimator of the true gradient, whereas with SGD you have a consistent estimator with few computations. Moreover SGD introduces noise via the variance of the estimator, shielding the model from overfitting. Finally, SGD can, and will always eventually, escape from local minima."
   ]
  },
  {
   "cell_type": "markdown",
   "metadata": {},
   "source": [
    "## K-Nearest Neighbours\n",
    "\n",
    "The method $k$NN takes a different approach to modeling $P(Y=1|\\mathbf{x})$. It is a *non-parametric* **lazy** method, and does not have a \"model\" as such. It predicts with\n",
    "$$\n",
    "P(Y=1|\\mathbf{x}) \\approx \\frac{1}{k} \\sum_{\\mathbf{x}_i \\in \\textsf{Ne}_k(\\mathbf{x})} y_i \n",
    "$$\n",
    "where $\\textsf{Ne}_k(\\mathbf{x})$ is the *neighbourhood* of the $k$ training examples closest to $\\mathbf{x}$ (typically measured by Euclidean distance). \n",
    "\n",
    "> **Ques 4**: What is the effect of different values of $k$? Hint: Draw on paper and/or empirically test different values.\n",
    "\n",
    "> **Ans**: Small $k$ tends to overfit. However, if $k$ is too high, we run the risk of under-fitting.\n",
    "\n",
    "> **Ques 5**: What is the complexity of making a prediction with a naive implementation of $k$-NN? When is this likely to be a problem in practice?\n",
    "\n",
    "> **Ans**: $O(ndk)$: obviously an issue for large datasets with many instances $n$ or features $d$. \n",
    "\n",
    "> **Task 9**: Implement this function to create a $k$-NN classifier and evaluate it on the data provided. Hint: there is not really any training stage here; simple store the training instances to search over later."
   ]
  },
  {
   "cell_type": "code",
   "execution_count": 12,
   "metadata": {},
   "outputs": [],
   "source": [
    "from numpy.linalg import norm\n",
    "\n",
    "def kNN(k, X, y, x):\n",
    "    '''\n",
    "    kNN classification of x\n",
    "    -----------------------\n",
    "        Input: \n",
    "        k: number of nearest neighbors\n",
    "        X: training data           \n",
    "        y: class labels of training data\n",
    "        x: test instance\n",
    "\n",
    "        return the label to be associated with x\n",
    "\n",
    "        Hint: you may use the function 'norm' \n",
    "    '''\n",
    "    # Enter here your solution for Task 9\n",
    "    n,d = X.shape\n",
    "    classes = list(set(y))\n",
    "\n",
    "    # Take the distances from test instance x to all training instances\n",
    "    distances = norm(X - x, axis=1)\n",
    "    labels = np.arange(n)\n",
    "    \n",
    "    # Sort distances and re-arrange labels based on the distance of the instances\n",
    "    idx = distances.argsort()\n",
    "    labels = y[idx]\n",
    "    \n",
    "    cnt=[]\n",
    "    for c in classes:\n",
    "        cnt.append(list(labels[:k]).count(c))\n",
    "        \n",
    "    label=np.argmax(cnt)\n",
    "    return classes[label]"
   ]
  },
  {
   "cell_type": "code",
   "execution_count": 14,
   "metadata": {},
   "outputs": [
    {
     "data": {
      "text/plain": [
       "[<matplotlib.lines.Line2D at 0x109296520>]"
      ]
     },
     "execution_count": 14,
     "metadata": {},
     "output_type": "execute_result"
    },
    {
     "data": {
      "image/png": "[encoded data removed]",
      "text/plain": [
       "<Figure size 432x288 with 1 Axes>"
      ]
     },
     "metadata": {
      "needs_background": "light"
     },
     "output_type": "display_data"
    }
   ],
   "source": [
    "# Test the kNN method for various k\n",
    "Kmax=20\n",
    "knn_accuracy = np.zeros(Kmax)\n",
    "for k in range(1, Kmax+1):\n",
    "    y_pred = np.zeros(len(y_test))\n",
    "\n",
    "    for i in range(len(y_pred)):\n",
    "        y_pred[i] = kNN(k, X_train, y, X_test[i,:])\n",
    "\n",
    "    knn_accuracy[k-1] = 1-np.mean(np.abs(y_pred.reshape(-1,1)-y_test))\n",
    "\n",
    "    #print(y_pred)\n",
    "    #print(y_test)\n",
    "\n",
    "plt.plot(np.arange(1,Kmax+1), knn_accuracy)"
   ]
  },
  {
   "cell_type": "code",
   "execution_count": null,
   "metadata": {},
   "outputs": [],
   "source": []
  }
 ],
 "metadata": {
  "kernelspec": {
   "display_name": "Python 3",
   "language": "python",
   "name": "python3"
  },
  "language_info": {
   "codemirror_mode": {
    "name": "ipython",
    "version": 3
   },
   "file_extension": ".py",
   "mimetype": "text/x-python",
   "name": "python",
   "nbconvert_exporter": "python",
   "pygments_lexer": "ipython3",
   "version": "3.8.12"
  }
 },
 "nbformat": 4,
 "nbformat_minor": 4
}
