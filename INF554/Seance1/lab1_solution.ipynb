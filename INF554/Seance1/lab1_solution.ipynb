{
 "cells": [
  {
   "cell_type": "code",
   "execution_count": 2,
   "metadata": {},
   "outputs": [],
   "source": [
    "import numpy as np\n",
    "import matplotlib.pyplot as plt\n",
    "from numpy.linalg import inv\n",
    "np.set_printoptions(precision=3)"
   ]
  },
  {
   "cell_type": "markdown",
   "metadata": {},
   "source": [
    "# INF 554 Lab 1: introduction to the machine learning pipeline\n",
    "\n",
    "## Introduction\n",
    "\n",
    "The goal of this lab is to demonstrate the *machine learning pipeline*. We cover a step by step overview of a typical machine learning task, and at each step describe the subtasks that need to be performed. For further information regarding the concepts relevant to this lab, see the lecture slides.\n",
    "\n",
    "## The Task and Data\n",
    "\n",
    "Data is available in the ```data``` folder. This data consists of rows of measurements associated with cell growth in Scots pine trees monitored in the commune of Walscheid in France. Each row corresponds to the data of one week. The features (we shall denote by variables $X_1,\\ldots,X_3$) are: the week number, the average measured temperature, and soil moisture over that week. The final column (we shall denote $Y$) is the target; the number of new cells (known as *tracheids*) measured during the corresponding week (the number is an average over measurements from several trees). Let $\\mathbf{X} \\in \\mathbf{R}^{n \\times 3}$ be the instances ($n$ weeks; i.e., each row $\\mathbf{x}_i$ is an instance; corresponding to realizations of $X_1,\\ldots,X_3$, associated with label $y_i$); and $\\mathbf{y} = [y_1,\\ldots,y_n]^\\top$ are the labels. \n",
    "\n",
    "Counting cells involves manually extracting micro-core samples from the tree, and counting the cells under a microscope. Therefore it would be time saving and beneficial if a computational model was constructed, such that an estimate of growth could be made automatically given the environmental measurements such as temperature and daylight hours (which are easily and automatically obtainable), i.e., a data-driven model. Furthermore, the model could be analyzed for greater understanding of growth drivers, and we could also build a forecasting model.\n",
    "\n",
    "## Implementation of a Machine Learning Pipeline\n",
    "\n",
    "In this section, a machine learning pipeline will be implemented to load and preprocess the data, and from this data to build and evaluate a regression model. Each of the following subsections include tasks to be completed. In each case, you will need to complete the code in the Notebook cells where requested. The data is contained in the ```data``` folder. \n",
    "\n",
    "## Inspecting the data\n",
    "\n",
    "The training data is loaded and stored in ```X``` and ```y```, respectively. The distribution of each variable can be inspected by, for example, using ```Matplotlib```'s ```hist``` function. Notice/recall that in Python the first feature is indexed at ```0```, whereas we refer to $X_1$ in mathematical notation. Therefore the second feature is indexed at ```1```, and so on. Execute the next cell and observe the result. \n"
   ]
  },
  {
   "cell_type": "code",
   "execution_count": 3,
   "metadata": {},
   "outputs": [
    {
     "data": {
      "text/plain": [
       "(array([ 6.,  4., 15., 17., 25., 15., 12., 26., 22., 17.]),\n",
       " array([-4.89 , -2.282,  0.326,  2.934,  5.542,  8.15 , 10.758, 13.366,\n",
       "        15.974, 18.582, 21.19 ]),\n",
       " <BarContainer object of 10 artists>)"
      ]
     },
     "execution_count": 3,
     "metadata": {},
     "output_type": "execute_result"
    },
    {
     "data": {
      "image/png": "[encoded data removed]",
      "text/plain": [
       "<Figure size 432x288 with 1 Axes>"
      ]
     },
     "metadata": {
      "needs_background": "light"
     },
     "output_type": "display_data"
    }
   ],
   "source": [
    "# Load the data\n",
    "\n",
    "data = np.loadtxt('data/data_train.csv', delimiter=',', dtype=np.dtype(\"float64\"))\n",
    "\n",
    "# Prepare the data\n",
    "\n",
    "X = data[:,0:-1]\n",
    "y = data[:,-1]\n",
    "\n",
    "# Inspect the data\n",
    "\n",
    "plt.figure()\n",
    "plt.hist(X[:,1], 10)\n"
   ]
  },
  {
   "cell_type": "markdown",
   "metadata": {},
   "source": [
    "The next cell shows the plot of $x_3$ versus $x_2$"
   ]
  },
  {
   "cell_type": "code",
   "execution_count": 4,
   "metadata": {},
   "outputs": [
    {
     "data": {
      "text/plain": [
       "Text(0, 0.5, '$x_3$')"
      ]
     },
     "execution_count": 4,
     "metadata": {},
     "output_type": "execute_result"
    },
    {
     "data": {
      "image/png": "[encoded data removed]",
      "text/plain": [
       "<Figure size 432x288 with 1 Axes>"
      ]
     },
     "metadata": {
      "needs_background": "light"
     },
     "output_type": "display_data"
    }
   ],
   "source": [
    "plt.figure()\n",
    "plt.plot(X[:,1],X[:,2], 'o')\n",
    "plt.xlabel('$x_2$')\n",
    "plt.ylabel('$x_3$')\n"
   ]
  },
  {
   "cell_type": "markdown",
   "metadata": {},
   "source": [
    "The correlation between $X_1$ (week number) and the target variable (number of cells) should show how the growth season starts at about the 12th week of the year, peaks in the summer months, before ceasing in the final months of the year.\n",
    "\n",
    "> **Task 1:** Build the histogram for all other variables, then also plot $X_1$ (week number) versus the target (number of cells)."
   ]
  },
  {
   "cell_type": "code",
   "execution_count": 5,
   "metadata": {},
   "outputs": [
    {
     "data": {
      "text/plain": [
       "Text(0, 0.5, '$y$')"
      ]
     },
     "execution_count": 5,
     "metadata": {},
     "output_type": "execute_result"
    },
    {
     "data": {
      "image/png": "[encoded data removed]",
      "text/plain": [
       "<Figure size 432x288 with 1 Axes>"
      ]
     },
     "metadata": {
      "needs_background": "light"
     },
     "output_type": "display_data"
    },
    {
     "data": {
      "image/png": "[encoded data removed]",
      "text/plain": [
       "<Figure size 432x288 with 1 Axes>"
      ]
     },
     "metadata": {
      "needs_background": "light"
     },
     "output_type": "display_data"
    }
   ],
   "source": [
    "#your code for Task 1 here\n",
    "plt.figure()\n",
    "plt.hist(X[:,2], 10)\n",
    "\n",
    "#X1 vs target:\n",
    "plt.figure()\n",
    "plt.plot(X[:,0],y, 'o')\n",
    "plt.xlabel('$x_1$')\n",
    "plt.ylabel('$y$')"
   ]
  },
  {
   "cell_type": "markdown",
   "metadata": {},
   "source": [
    "## Preprocessing\n",
    "\n",
    "Preprocessing is a fundamental step in the machine learning pipeline. In practice, it takes up most of the time. It can involve cleaning the data, dealing with missing values, removing outliers, dimensionality reduction, feature selection and feature engineering. Usually preprocessing is guided by the data exploration process (inspecting the data). For example, there appears to be at outlier in the target column, possibly caused by an $8$ being recorded instead of a $0$. We will come back to this later at evaluation time.\n",
    "\n",
    "In the data exploration phase it was also noticeable that the attributes were of different scales. A common technique is to standardize each attribute to mean $0$ and standard deviation $1$ so that each variable will be considered equally.\n",
    "\n",
    "> **Task 2:** Standardize the data of each of the input attributes. Hint: NumPy has a ```mean``` function. Calling ```mean(X,axis=0)``` will return a vector of means, one for each column. The function ```std``` can be used in a similar way for the standard deviation.\n"
   ]
  },
  {
   "cell_type": "code",
   "execution_count": 6,
   "metadata": {},
   "outputs": [
    {
     "data": {
      "text/plain": [
       "array([[-1.7  , -0.605, -0.94 ],\n",
       "       [-1.634, -0.181, -0.578],\n",
       "       [-1.569, -0.336, -0.894],\n",
       "       [-1.504, -1.794, -1.12 ],\n",
       "       [-1.438, -1.044, -1.211],\n",
       "       [-1.373, -0.872, -0.94 ],\n",
       "       [-1.307, -0.569, -0.578],\n",
       "       [-1.242, -0.546, -0.533],\n",
       "       [-1.177, -0.453, -0.714],\n",
       "       [-1.111, -0.327,  0.099],\n",
       "       [-1.046, -0.382, -0.126],\n",
       "       [-0.981, -1.262, -1.211],\n",
       "       [-0.915, -0.476, -0.352],\n",
       "       [-0.85 , -0.193,  0.325],\n",
       "       [-0.784,  0.62 ,  1.816],\n",
       "       [-0.719,  0.598,  2.268],\n",
       "       [-0.654,  1.122,  2.584],\n",
       "       [-0.588,  0.586,  1.319],\n",
       "       [-0.523,  0.669,  0.777],\n",
       "       [-0.458,  0.408, -0.036],\n",
       "       [-0.392,  1.576,  1.997],\n",
       "       [-0.327,  0.338, -0.172],\n",
       "       [-0.261,  1.387,  0.913],\n",
       "       [-0.196,  1.284,  0.958],\n",
       "       [-0.131,  1.215,  0.867],\n",
       "       [-0.065,  0.744,  0.551],\n",
       "       [ 0.   ,  0.752,  0.145],\n",
       "       [ 0.065,  0.991,  0.958],\n",
       "       [ 0.131,  1.668,  2.72 ],\n",
       "       [ 0.196,  1.156,  0.913],\n",
       "       [ 0.261,  0.912,  0.687],\n",
       "       [ 0.327,  0.979, -0.036],\n",
       "       [ 0.392,  1.166,  0.732],\n",
       "       [ 0.458,  0.939,  0.235],\n",
       "       [ 0.523,  0.87 ,  0.506],\n",
       "       [ 0.588,  0.358, -0.488],\n",
       "       [ 0.654,  0.5  , -0.081],\n",
       "       [ 0.719,  0.485,  0.145],\n",
       "       [ 0.784,  0.27 , -0.443],\n",
       "       [ 0.85 ,  0.815, -0.081],\n",
       "       [ 0.915, -0.005, -0.669],\n",
       "       [ 0.981, -0.074, -0.307],\n",
       "       [ 1.046, -0.738, -0.804],\n",
       "       [ 1.111, -0.473, -0.94 ],\n",
       "       [ 1.177, -0.661, -0.894],\n",
       "       [ 1.242, -1.288, -1.211],\n",
       "       [ 1.307, -0.866, -1.12 ],\n",
       "       [ 1.373, -1.062, -1.166],\n",
       "       [ 1.438, -0.474, -0.849],\n",
       "       [ 1.504, -1.151, -1.03 ],\n",
       "       [ 1.569, -2.084, -1.211],\n",
       "       [ 1.634, -1.935, -1.391],\n",
       "       [ 1.7  , -1.128, -1.256],\n",
       "       [-1.7  , -1.258, -0.985],\n",
       "       [-1.634, -0.588, -0.488],\n",
       "       [-1.569, -0.295, -0.352],\n",
       "       [-1.504, -0.941, -0.398],\n",
       "       [-1.438, -1.323, -1.075],\n",
       "       [-1.373, -0.749, -0.352],\n",
       "       [-1.307, -1.242, -0.533],\n",
       "       [-1.242, -0.58 , -0.307],\n",
       "       [-1.177, -0.236, -0.443],\n",
       "       [-1.111, -1.079, -0.894],\n",
       "       [-1.046, -0.278, -0.398],\n",
       "       [-0.981, -1.305, -0.94 ],\n",
       "       [-0.915, -0.832, -0.217],\n",
       "       [-0.85 , -0.464, -0.307],\n",
       "       [-0.784, -0.76 , -0.849],\n",
       "       [-0.719, -0.488, -0.533],\n",
       "       [-0.654,  0.282,  0.461],\n",
       "       [-0.588,  0.324,  1.003],\n",
       "       [-0.523,  1.013,  3.081],\n",
       "       [-0.458,  0.87 ,  1.545],\n",
       "       [-0.392,  0.532,  0.416],\n",
       "       [-0.327,  1.372,  0.822],\n",
       "       [-0.261,  0.839, -0.126],\n",
       "       [-0.196,  0.657,  0.551],\n",
       "       [-0.131,  1.186,  1.41 ],\n",
       "       [-0.065,  1.469,  1.364],\n",
       "       [ 0.   ,  1.337,  1.5  ],\n",
       "       [ 0.065,  1.044,  1.003],\n",
       "       [ 0.131,  1.106,  1.364],\n",
       "       [ 0.196,  1.185,  1.681],\n",
       "       [ 0.261,  1.682,  1.274],\n",
       "       [ 0.327,  1.331,  0.867],\n",
       "       [ 0.392,  0.968,  0.506],\n",
       "       [ 0.458,  0.967,  0.642],\n",
       "       [ 0.523,  1.146,  0.777],\n",
       "       [ 0.588,  0.896,  0.054],\n",
       "       [ 0.654,  0.737, -0.081],\n",
       "       [ 0.719, -0.137, -0.172],\n",
       "       [ 0.784, -0.025, -0.352],\n",
       "       [ 0.85 , -0.118, -0.488],\n",
       "       [ 0.915,  0.52 , -0.352],\n",
       "       [ 0.981,  0.08 , -0.578],\n",
       "       [ 1.046, -0.196, -0.533],\n",
       "       [ 1.111, -0.534, -1.075],\n",
       "       [ 1.177, -0.034, -0.533],\n",
       "       [ 1.242, -0.433, -0.669],\n",
       "       [ 1.307, -0.935, -1.03 ],\n",
       "       [ 1.373, -1.446, -1.166],\n",
       "       [ 1.438, -1.019, -1.12 ],\n",
       "       [ 1.504, -1.647, -1.437],\n",
       "       [ 1.569, -1.205, -1.391],\n",
       "       [ 1.634, -1.421, -1.166],\n",
       "       [ 1.7  , -2.037, -1.346],\n",
       "       [-1.7  , -2.078, -1.301],\n",
       "       [-1.634, -2.32 , -1.075],\n",
       "       [-1.569, -1.154, -0.94 ],\n",
       "       [-1.504, -1.36 , -1.075],\n",
       "       [-1.438, -1.662, -1.03 ],\n",
       "       [-1.373, -1.042, -1.03 ],\n",
       "       [-1.307, -1.711, -1.256],\n",
       "       [-1.242, -1.441, -1.075],\n",
       "       [-1.177, -0.683, -0.533],\n",
       "       [-1.111, -1.005, -0.578],\n",
       "       [-1.046, -0.588, -0.578],\n",
       "       [-0.981, -0.902,  0.009],\n",
       "       [-0.915, -0.691, -0.488],\n",
       "       [-0.85 ,  0.299,  0.551],\n",
       "       [-0.784,  0.617,  1.093],\n",
       "       [-0.719,  0.246,  0.325],\n",
       "       [-0.654,  0.158,  0.506],\n",
       "       [-0.588,  0.146,  0.235],\n",
       "       [-0.523,  0.726,  0.416],\n",
       "       [-0.458,  0.664,  0.19 ],\n",
       "       [-0.392,  1.323,  1.59 ],\n",
       "       [-0.327,  0.7  ,  1.184],\n",
       "       [-0.261,  0.456,  0.506],\n",
       "       [-0.196,  0.955,  0.867],\n",
       "       [-0.131,  0.783,  0.822],\n",
       "       [-0.065,  1.481,  1.455],\n",
       "       [ 0.   ,  1.571,  1.636],\n",
       "       [ 0.065,  0.928,  0.235],\n",
       "       [ 0.131,  1.249,  1.319],\n",
       "       [ 0.196,  1.295,  1.771],\n",
       "       [ 0.261,  1.24 ,  1.5  ],\n",
       "       [ 0.327,  1.524,  0.642],\n",
       "       [ 0.392,  1.601,  1.726],\n",
       "       [ 0.458,  1.544,  2.132],\n",
       "       [ 0.523,  1.3  ,  1.907],\n",
       "       [ 0.588,  0.76 ,  0.461],\n",
       "       [ 0.654,  0.598,  0.28 ],\n",
       "       [ 0.719,  0.893, -0.262],\n",
       "       [ 0.784,  0.684,  0.506],\n",
       "       [ 0.85 ,  0.517,  0.325],\n",
       "       [ 0.915,  0.525,  0.145],\n",
       "       [ 0.981, -0.975, -0.849],\n",
       "       [ 1.046,  0.008, -0.578],\n",
       "       [ 1.111, -0.371, -1.075],\n",
       "       [ 1.177, -0.628, -0.985],\n",
       "       [ 1.242, -0.052, -0.443],\n",
       "       [ 1.307,  0.14 ,  0.28 ],\n",
       "       [ 1.373, -0.356, -0.217],\n",
       "       [ 1.438, -0.533, -0.669],\n",
       "       [ 1.504, -1.278, -0.985],\n",
       "       [ 1.569, -2.05 , -1.12 ],\n",
       "       [ 1.634, -1.094, -1.166],\n",
       "       [ 1.7  , -0.327, -1.075]])"
      ]
     },
     "execution_count": 6,
     "metadata": {},
     "output_type": "execute_result"
    }
   ],
   "source": [
    "np.mean(X, axis=0) #you should obtain array([26.   , 10.23 ,  0.358])\n",
    "\n",
    "#insert here your solution for Task 2\n",
    "m = np.mean(X,axis=0)\n",
    "s = np.std(X,axis=0)\n",
    "X = (X - m) / s\n"
   ]
  },
  {
   "cell_type": "markdown",
   "metadata": {},
   "source": [
    "## Building a model\n",
    "\n",
    "A standard approach for regression tasks (such as this one, where the target label is continuous) is *ordinary least squares* (OLS). However, OLS is a linear model, yet we observed previously that the relationship of the $X_1$ feature is non-linear with respect to $Y$. To fit a linear model which captures non-linear dependencies between the features and the labels, we can use polynomial basis functions to create a new feature space to which we fit a linear model. This has been included in the preprocessing (N.B. It is a matter of perspective whether this step is considered part of building the model, or data preprocessing) via the function ```phi```, where the second parameter indicates the degree to the polynomial. Using degree $2$ would produce a new feature space\n",
    "\n",
    "$$\n",
    "\t\\mathbf{z} = \\phi(\\mathbf{x}) = [1,x_1,x_2,x_3,x^2_1,x^2_2,x^2_3]\n",
    "$$\n",
    "\n",
    "for an instance $\\mathbf{x}$. For degree $1$, this is equivalent to the original feature space,\n",
    "\n",
    "$$\n",
    "\t\\mathbf{z} = \\phi(\\mathbf{x}) = [1,x_1,x_2,x_3]\n",
    "$$\n",
    "\n",
    "except that we have added a column of $1$s to the new input feature space. This is common practice so that the intercept/bias does not need to be calculated separately.\n",
    "\n",
    "Our model is fit to this data by obtaining an ideal set of coefficients:\n",
    "\n",
    "$$\n",
    "\t\\mathbf{\\hat\\beta} = [\\beta_0,\\beta_1,\\ldots,\\beta_m]^\\top\n",
    "$$\n",
    "\n",
    "where $m$ is the length of vector $\\mathbf{z}$. And where $\\mathbf{\\hat\\beta}$ refers to the values which minimize the mean squared error (or equivalently, sum of squares error) over the data; which is our given/assumed loss metric; given in Eq. (2) (where it is later used for evaluation). Having $\\mathbf{\\hat\\beta}$, we can now make a prediction for any test point;\n",
    "\n",
    "$$\n",
    "\t\\hat{y} = \\mathbf{z\\hat\\beta}\n",
    "$$\n",
    "\n",
    "> **Ques 1**: Derive $\\mathbf{\\hat\\beta}$, by minimizing Eq. (2); setting it to $0$ and solving for $\\mathbf{\\hat\\beta}$.\n",
    "\n",
    "You should have obtained\n",
    "\n",
    "\\begin{equation}\n",
    "\t\\mathbf{\\hat\\beta} = (\\mathbf{Z}^\\top\\mathbf{Z})^{-1}\\mathbf{Z}^\\top\\mathbf{y} \\hspace{1.5cm} (1)\n",
    "\\end{equation}\n",
    "(or equivalent).\n",
    "\n",
    "> **Task 3**: Implement OLS in Python, to obtain a vector of coefficients. Hint: Since Python 3.6 you can use the ```@``` symbol for matrix multiplication. Note the ```inv``` function, as imported in the code provided. Print out the coefficients using the ```print``` function.\n"
   ]
  },
  {
   "cell_type": "code",
   "execution_count": 7,
   "metadata": {},
   "outputs": [
    {
     "data": {
      "text/plain": [
       "array([ 1.902,  0.117,  0.691,  0.031, -0.676,  0.24 ,  0.031])"
      ]
     },
     "execution_count": 7,
     "metadata": {},
     "output_type": "execute_result"
    }
   ],
   "source": [
    "# Feature creation\n",
    "\n",
    "def phi(X, degree):\n",
    "    N,D = X.shape\n",
    "    for d in range(2,degree+1):\n",
    "        X = np.column_stack([X,X[:,0:D]**d])\n",
    "    X = np.column_stack([np.ones(len(X)), X])\n",
    "    return X\n",
    "\n",
    "# Polynomial degree\n",
    "degree = 2\n",
    "\n",
    "Z = phi(X,degree)\n",
    "\n",
    "#insert here your solution for Task 3\n",
    "\n",
    "# Estimating the coefficients\n",
    "w = inv(Z.T @ Z) @ Z.T @ y\n",
    "\n",
    "w"
   ]
  },
  {
   "cell_type": "markdown",
   "metadata": {},
   "source": [
    "> **Ques 2**: What could go wrong in building this model? Specifically, wrt Eq. (1) ?\n",
    "\n",
    "## Evaluation and Comparison\n",
    "\n",
    "Before deploying a model, we should evaluate it to know how useful it is. For this purpose we have held aside some *test data*. It is important to conduct an identical preprocessing on the test data as the train data; noting that the training procedure is done in complete ignorance of the test data.\n",
    "\n",
    "> **Task 4**: Load and preprocess the test data (```data_test.csv```). Use different variable names (for example, ```X_test``` and ```y_test```)\n"
   ]
  },
  {
   "cell_type": "code",
   "execution_count": 11,
   "metadata": {},
   "outputs": [
    {
     "data": {
      "text/plain": [
       "array([[ 1.000e+00, -1.700e+00, -2.015e+00, -1.301e+00,  2.889e+00,\n",
       "         4.060e+00,  1.693e+00],\n",
       "       [ 1.000e+00, -1.634e+00, -2.069e+00, -1.437e+00,  2.671e+00,\n",
       "         4.280e+00,  2.064e+00],\n",
       "       [ 1.000e+00, -1.569e+00, -1.476e+00, -1.391e+00,  2.462e+00,\n",
       "         2.180e+00,  1.936e+00],\n",
       "       [ 1.000e+00, -1.504e+00, -1.679e+00, -1.391e+00,  2.261e+00,\n",
       "         2.819e+00,  1.936e+00],\n",
       "       [ 1.000e+00, -1.438e+00, -1.754e+00, -1.437e+00,  2.068e+00,\n",
       "         3.077e+00,  2.064e+00],\n",
       "       [ 1.000e+00, -1.373e+00, -1.413e+00, -1.120e+00,  1.885e+00,\n",
       "         1.998e+00,  1.255e+00],\n",
       "       [ 1.000e+00, -1.307e+00, -2.067e+00, -1.301e+00,  1.709e+00,\n",
       "         4.273e+00,  1.693e+00],\n",
       "       [ 1.000e+00, -1.242e+00, -6.968e-01, -7.138e-01,  1.543e+00,\n",
       "         4.855e-01,  5.095e-01],\n",
       "       [ 1.000e+00, -1.177e+00, -6.170e-01, -2.168e-01,  1.385e+00,\n",
       "         3.807e-01,  4.700e-02],\n",
       "       [ 1.000e+00, -1.111e+00, -1.846e+00, -5.782e-01,  1.235e+00,\n",
       "         3.409e+00,  3.343e-01],\n",
       "       [ 1.000e+00, -1.046e+00, -1.131e+00, -6.234e-01,  1.094e+00,\n",
       "         1.279e+00,  3.886e-01],\n",
       "       [ 1.000e+00, -9.806e-01,  2.424e-01,  1.003e+00,  9.615e-01,\n",
       "         5.878e-02,  1.006e+00],\n",
       "       [ 1.000e+00, -9.152e-01, -9.826e-02, -8.126e-02,  8.376e-01,\n",
       "         9.654e-03,  6.604e-03],\n",
       "       [ 1.000e+00, -8.498e-01, -4.037e-01,  9.945e-02,  7.222e-01,\n",
       "         1.629e-01,  9.890e-03],\n",
       "       [ 1.000e+00, -7.845e-01, -4.420e-01, -4.427e-01,  6.154e-01,\n",
       "         1.954e-01,  1.960e-01],\n",
       "       [ 1.000e+00, -7.191e-01,  2.605e-02,  9.578e-01,  5.171e-01,\n",
       "         6.786e-04,  9.175e-01],\n",
       "       [ 1.000e+00, -6.537e-01,  5.141e-01,  2.132e+00,  4.274e-01,\n",
       "         2.643e-01,  4.547e+00],\n",
       "       [ 1.000e+00, -5.883e-01,  1.611e-01,  3.253e-01,  3.462e-01,\n",
       "         2.595e-02,  1.058e-01],\n",
       "       [ 1.000e+00, -5.230e-01, -1.689e-01, -7.589e-01,  2.735e-01,\n",
       "         2.851e-02,  5.760e-01],\n",
       "       [ 1.000e+00, -4.576e-01, -2.548e-01, -3.975e-01,  2.094e-01,\n",
       "         6.492e-02,  1.580e-01],\n",
       "       [ 1.000e+00, -3.922e-01,  8.241e-01,  1.003e+00,  1.538e-01,\n",
       "         6.791e-01,  1.006e+00],\n",
       "       [ 1.000e+00, -3.269e-01,  4.512e-01, -1.264e-01,  1.068e-01,\n",
       "         2.035e-01,  1.599e-02],\n",
       "       [ 1.000e+00, -2.615e-01,  1.215e+00,  1.500e+00,  6.838e-02,\n",
       "         1.477e+00,  2.250e+00],\n",
       "       [ 1.000e+00, -1.961e-01,  1.019e+00,  5.512e-01,  3.846e-02,\n",
       "         1.038e+00,  3.039e-01],\n",
       "       [ 1.000e+00, -1.307e-01,  4.512e-01,  3.253e-01,  1.709e-02,\n",
       "         2.035e-01,  1.058e-01],\n",
       "       [ 1.000e+00, -6.537e-02,  1.644e+00,  2.765e+00,  4.274e-03,\n",
       "         2.701e+00,  7.645e+00],\n",
       "       [ 1.000e+00,  0.000e+00,  1.711e+00,  2.720e+00,  0.000e+00,\n",
       "         2.928e+00,  7.397e+00],\n",
       "       [ 1.000e+00,  6.537e-02,  2.032e+00,  2.991e+00,  4.274e-03,\n",
       "         4.128e+00,  8.945e+00],\n",
       "       [ 1.000e+00,  1.307e-01,  1.573e+00,  2.991e+00,  1.709e-02,\n",
       "         2.474e+00,  8.945e+00],\n",
       "       [ 1.000e+00,  1.961e-01,  9.223e-01, -3.609e-02,  3.846e-02,\n",
       "         8.506e-01,  1.302e-03],\n",
       "       [ 1.000e+00,  2.615e-01,  1.129e+00,  9.127e-01,  6.838e-02,\n",
       "         1.276e+00,  8.330e-01],\n",
       "       [ 1.000e+00,  3.269e-01,  1.142e+00,  1.410e+00,  1.068e-01,\n",
       "         1.304e+00,  1.987e+00],\n",
       "       [ 1.000e+00,  3.922e-01,  8.041e-01, -2.620e-01,  1.538e-01,\n",
       "         6.466e-01,  6.863e-02],\n",
       "       [ 1.000e+00,  4.576e-01,  1.413e+00,  1.319e+00,  2.094e-01,\n",
       "         1.998e+00,  1.740e+00],\n",
       "       [ 1.000e+00,  5.230e-01,  6.844e-01,  1.446e-01,  2.735e-01,\n",
       "         4.684e-01,  2.092e-02],\n",
       "       [ 1.000e+00,  5.883e-01,  6.783e-01,  9.945e-02,  3.462e-01,\n",
       "         4.601e-01,  9.890e-03],\n",
       "       [ 1.000e+00,  6.537e-01,  6.553e-01, -1.264e-01,  4.274e-01,\n",
       "         4.294e-01,  1.599e-02],\n",
       "       [ 1.000e+00,  7.191e-01,  2.685e-01, -1.716e-01,  5.171e-01,\n",
       "         7.211e-02,  2.945e-02],\n",
       "       [ 1.000e+00,  7.845e-01,  1.304e-01, -5.782e-01,  6.154e-01,\n",
       "         1.701e-02,  3.343e-01],\n",
       "       [ 1.000e+00,  8.498e-01,  6.200e-01, -1.716e-01,  7.222e-01,\n",
       "         3.844e-01,  2.945e-02],\n",
       "       [ 1.000e+00,  9.152e-01,  1.350e-01, -1.716e-01,  8.376e-01,\n",
       "         1.823e-02,  2.945e-02],\n",
       "       [ 1.000e+00,  9.806e-01, -6.876e-01, -1.166e+00,  9.615e-01,\n",
       "         4.728e-01,  1.358e+00],\n",
       "       [ 1.000e+00,  1.046e+00, -9.040e-01, -8.945e-01,  1.094e+00,\n",
       "         8.171e-01,  8.001e-01],\n",
       "       [ 1.000e+00,  1.111e+00, -1.539e-02, -3.523e-01,  1.235e+00,\n",
       "         2.367e-04,  1.241e-01],\n",
       "       [ 1.000e+00,  1.177e+00, -1.919e-01, -6.686e-01,  1.385e+00,\n",
       "         3.681e-02,  4.470e-01],\n",
       "       [ 1.000e+00,  1.242e+00, -1.888e-01, -4.427e-01,  1.543e+00,\n",
       "         3.565e-02,  1.960e-01],\n",
       "       [ 1.000e+00,  1.307e+00, -1.030e+00, -1.256e+00,  1.709e+00,\n",
       "         1.060e+00,  1.577e+00],\n",
       "       [ 1.000e+00,  1.373e+00, -1.868e+00, -1.482e+00,  1.885e+00,\n",
       "         3.488e+00,  2.196e+00],\n",
       "       [ 1.000e+00,  1.438e+00, -1.742e+00, -1.301e+00,  2.068e+00,\n",
       "         3.034e+00,  1.693e+00],\n",
       "       [ 1.000e+00,  1.504e+00, -1.796e+00, -1.391e+00,  2.261e+00,\n",
       "         3.224e+00,  1.936e+00],\n",
       "       [ 1.000e+00,  1.569e+00, -1.564e+00, -1.346e+00,  2.462e+00,\n",
       "         2.446e+00,  1.812e+00],\n",
       "       [ 1.000e+00,  1.634e+00, -1.926e+00, -1.482e+00,  2.671e+00,\n",
       "         3.710e+00,  2.196e+00],\n",
       "       [ 1.000e+00,  1.700e+00, -1.719e+00, -1.482e+00,  2.889e+00,\n",
       "         2.954e+00,  2.196e+00]])"
      ]
     },
     "execution_count": 11,
     "metadata": {},
     "output_type": "execute_result"
    }
   ],
   "source": [
    "#insert here your solution for Task 4\n",
    "data = np.loadtxt('data/data_test.csv', delimiter=',')\n",
    "\n",
    "X_test = data[:,0:-1]\n",
    "y_test = data[:, -1]\n",
    "\n",
    "X_test = (X_test  - m ) / s\n",
    "Z_test = phi(X_test, degree)\n",
    "\n",
    "Z_test"
   ]
  },
  {
   "cell_type": "markdown",
   "metadata": {},
   "source": [
    "We now evaluate the quality of predictions. For this task we use the *mean squared error* as the loss metric, over $N$ examples as\n",
    "\\begin{equation}\n",
    "\t\\textsf{MSE}(\\mathbf{\\hat\\beta}) = \\frac{1}{N}\\sum_{i=1}^N (y_i - \\hat{y}_i)^2  \\hspace{1.5cm} (2)\n",
    "\\end{equation}\n",
    "\n",
    "> **Task 5**: Implement MSE, i.e., a function such that ```mse = MSE(y_test,y_pred)```. Print out the value obtained. Hints: in ```Numpy``` the number of examples in a vector can be obtained by the ```len``` function; and you can make use of ```mean``` again.\n"
   ]
  },
  {
   "cell_type": "code",
   "execution_count": 14,
   "metadata": {},
   "outputs": [
    {
     "data": {
      "text/plain": [
       "array([-0.657, -0.479, -0.427, -0.27 , -0.12 , -0.027,  0.202,  0.342,\n",
       "        0.488,  0.471,  0.558,  1.381,  1.161,  1.078,  1.128,  1.544,\n",
       "        2.161,  1.73 ,  1.541,  1.539,  2.547,  2.149,  3.135,  2.833,\n",
       "        2.249,  3.995,  4.098,  4.668,  3.953,  2.74 ,  3.027,  3.075,\n",
       "        2.549,  3.364,  2.369,  2.32 ,  2.242,  1.835,  1.665,  2.03 ,\n",
       "        1.536,  1.011,  0.853,  1.18 ,  0.973,  0.875,  0.452,  0.356,\n",
       "        0.208,  0.099, -0.059, -0.132, -0.31 ])"
      ]
     },
     "execution_count": 14,
     "metadata": {},
     "output_type": "execute_result"
    }
   ],
   "source": [
    "#your code for Task 5\n",
    "def MSE(yt,yp):\n",
    "    return np.mean((yt-yp)**2)\n",
    "\n",
    "y_pred = Z_test @ w\n",
    "\n",
    "y_pred\n",
    "# Score\n",
    "\n",
    "print(\"MSE on test data  \", MSE(y_test,y_pred))"
   ]
  },
  {
   "cell_type": "markdown",
   "metadata": {},
   "source": [
    "> **Task 6**: Additionally, calculate the MSE where all predictions for test examples are simply the mean of $Y$ in the training data (i.e., a *baseline*)."
   ]
  },
  {
   "cell_type": "code",
   "execution_count": 51,
   "metadata": {},
   "outputs": [
    {
     "name": "stdout",
     "output_type": "stream",
     "text": [
      "MSE baseline       1.769174652901389\n"
     ]
    }
   ],
   "source": [
    "#insert here your solutions for Task 6\n",
    "\n",
    "print(\"MSE baseline      \", MSE(y_test,np.ones(len(y_test))*np.mean(y)))"
   ]
  },
  {
   "cell_type": "markdown",
   "metadata": {},
   "source": [
    "So far, you should obtain something like the following (please note that we use the variable $w$ for $\\mathbf{\\hat\\beta}$ and that $w$ values have been rounded).\n",
    "\n",
    "        w =  [ 1.902  0.117  0.691  0.031 -0.676  0.24   0.031]\n",
    "        MSE on test data   0.546191331548\n",
    "        MSE baseline       1.7691746529\n",
    "          \n",
    "> **Task 7**: What is the change to MSE if we replace the outlier with a different value (e.g., $0$)?"
   ]
  },
  {
   "cell_type": "code",
   "execution_count": 52,
   "metadata": {},
   "outputs": [
    {
     "name": "stdout",
     "output_type": "stream",
     "text": [
      "MSE on test data after outlier removed 0.5098814630062195\n"
     ]
    }
   ],
   "source": [
    "#insert here your solution for Task 7\n",
    "\n",
    "y[y >= 8] = 0\n",
    "\n",
    "w = inv(Z.T @ Z) @ Z.T @ y\n",
    "\n",
    "y_pred = Z_test @ w\n",
    "\n",
    "# Score\n",
    "\n",
    "print(\"MSE on test data after outlier removed\", MSE(y_test,y_pred))\n"
   ]
  },
  {
   "cell_type": "markdown",
   "metadata": {},
   "source": [
    "> **Ques 3**: Outliers can have a powerful influence on model accuracy. Explain this influence with regard to Eq (2)\n",
    "\n",
    "Why is it important to use a test set for evaluation and not just simply measure the MSE on the training data that we had originally? The answer is to avoid *overfitting*. Overfitting can be demonstrated by comparing results on the training and test sets for different parameter configurations. Here we can see what happens when we vary the degree of the polynomial expansion:\n",
    "\n",
    "![Overfitting](fig/fig2.png)\n",
    "\n",
    "> **Ques 4**: What degree of polynomial should you use in your final deployed model, according to this plot?\n",
    "\n",
    "> **Task 8** (Bonus): Reproduce the results of the figure above (**Note**: you have to remove the outlier to obtain the same result).\n",
    "\n",
    "> Hints: put the test procedure in a loop, incrementing the degree of polynomial in the expansion each time, then use plotting functions as demonstrated in the earlier tasks; at each iteration of the loop you will need to obtain predictions on both the training and test data using your ```MSE``` function.\n"
   ]
  },
  {
   "cell_type": "code",
   "execution_count": 56,
   "metadata": {},
   "outputs": [
    {
     "data": {
      "text/plain": [
       "Text(0, 0.5, '$MSE$')"
      ]
     },
     "execution_count": 56,
     "metadata": {},
     "output_type": "execute_result"
    },
    {
     "data": {
      "image/png": "[encoded data removed]",
      "text/plain": [
       "<Figure size 432x288 with 1 Axes>"
      ]
     },
     "metadata": {
      "needs_background": "light"
     },
     "output_type": "display_data"
    }
   ],
   "source": [
    "#insert here your solution for task 8\n",
    "\n",
    "test_res=[]\n",
    "train_res=[]\n",
    "for degree in range(1, 8):\n",
    "    Z = phi(X,degree)\n",
    "    w = inv(Z.T @ Z) @ Z.T @ y\n",
    "    Z_test = phi(X_test,degree)\n",
    "    y_pred = Z_test @ w\n",
    "    test_res.append(MSE(y_test,y_pred))\n",
    "    \n",
    "    #MSE for train\n",
    "    y_tpred = Z @ w\n",
    "    train_res.append(MSE(y, y_tpred))\n",
    "\n",
    "plt.figure()\n",
    "plt.plot(range(1,8), test_res, '-')\n",
    "plt.plot(range(1,8), train_res, '-')\n",
    "plt.xlabel('$degree of polynomial$')\n",
    "plt.ylabel('$MSE$')"
   ]
  },
  {
   "cell_type": "markdown",
   "metadata": {},
   "source": [
    "> **Task 9** (Bonus): Apply the regression task using only the two principal components (i.e., apply PCA before the regression). You may implement PCA yourself or use ```sklearn.decomposition.PCA``` from the Scikit-Learn framework."
   ]
  },
  {
   "cell_type": "code",
   "execution_count": 57,
   "metadata": {},
   "outputs": [],
   "source": [
    "from sklearn.decomposition import PCA\n",
    "\n",
    "#insert here your solution for task 9\n",
    "def pca_com(X, n_components):\n",
    "    z = PCA(n_components).fit_transform(X)\n",
    "    return z\n",
    "\n",
    "X_PCA = pca_com(X, 2)\n",
    "X_PCA_test = pca_com(X_test, 2)\n",
    "\n",
    "Z_PCA = phi(X_PCA, 1)\n",
    "Z_PCA_test = phi(X_PCA_test, 1)\n",
    "\n",
    "w_PCA = inv(Z_PCA.T @ Z_PCA) @ Z_PCA.T @ y\n",
    "\n",
    "print(MSE(y_test, Z_PCA_test @ w_PCA))"
   ]
  },
  {
   "cell_type": "code",
   "execution_count": null,
   "metadata": {},
   "outputs": [],
   "source": []
  }
 ],
 "metadata": {
  "kernelspec": {
   "display_name": "Python 3",
   "language": "python",
   "name": "python3"
  },
  "language_info": {
   "codemirror_mode": {
    "name": "ipython",
    "version": 3
   },
   "file_extension": ".py",
   "mimetype": "text/x-python",
   "name": "python",
   "nbconvert_exporter": "python",
   "pygments_lexer": "ipython3",
   "version": "3.8.12"
  }
 },
 "nbformat": 4,
 "nbformat_minor": 2
}
